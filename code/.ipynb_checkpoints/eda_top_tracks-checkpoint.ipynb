{
 "cells": [
  {
   "cell_type": "markdown",
   "metadata": {},
   "source": [
    "## Exploring Spotify music taste profiles using Machine Learning"
   ]
  },
  {
   "cell_type": "code",
   "execution_count": 4,
   "metadata": {},
   "outputs": [],
   "source": [
    "from sklearn.preprocessing import MinMaxScaler\n",
    "import pandas as pd\n",
    "import seaborn as sns\n",
    "from scipy import stats\n",
    "import matplotlib.pyplot as plt\n",
    "import matplotlib.patches as mpatches\n",
    "from sklearn.preprocessing import StandardScaler\n",
    "from math import pi\n",
    "pd.set_option('display.float_format', lambda x: '{:.3f}'.format(x)) #Limiting floats output to 3 decimal points\n"
   ]
  },
  {
   "cell_type": "code",
   "execution_count": 7,
   "metadata": {},
   "outputs": [
    {
     "ename": "FileNotFoundError",
     "evalue": "[Errno 2] No such file or directory: '/Desktop/D_Sci/NYDSA_Bootcamp/capstone_spotify/top_USA_final.csv'",
     "output_type": "error",
     "traceback": [
      "\u001b[0;31m---------------------------------------------------------------------------\u001b[0m",
      "\u001b[0;31mFileNotFoundError\u001b[0m                         Traceback (most recent call last)",
      "\u001b[0;32m<ipython-input-7-4887d858b12b>\u001b[0m in \u001b[0;36m<module>\u001b[0;34m\u001b[0m\n\u001b[1;32m      2\u001b[0m \u001b[0;34m\u001b[0m\u001b[0m\n\u001b[1;32m      3\u001b[0m \u001b[0;31m#top_annual_df = pd.read_csv(\"./top_tracks_final.csv\")\u001b[0m\u001b[0;34m\u001b[0m\u001b[0;34m\u001b[0m\u001b[0;34m\u001b[0m\u001b[0m\n\u001b[0;32m----> 4\u001b[0;31m \u001b[0mtop_tracks_USA\u001b[0m \u001b[0;34m=\u001b[0m \u001b[0mpd\u001b[0m\u001b[0;34m.\u001b[0m\u001b[0mread_csv\u001b[0m\u001b[0;34m(\u001b[0m\u001b[0;34m\"/Desktop/D_Sci/NYDSA_Bootcamp/capstone_spotify/top_USA_final.csv\"\u001b[0m\u001b[0;34m)\u001b[0m\u001b[0;34m\u001b[0m\u001b[0;34m\u001b[0m\u001b[0m\n\u001b[0m\u001b[1;32m      5\u001b[0m \u001b[0msongs_j_loves\u001b[0m \u001b[0;34m=\u001b[0m \u001b[0mpd\u001b[0m\u001b[0;34m.\u001b[0m\u001b[0mread_csv\u001b[0m\u001b[0;34m(\u001b[0m\u001b[0;34m\"./songs_j_loves_final.csv\"\u001b[0m\u001b[0;34m)\u001b[0m\u001b[0;34m\u001b[0m\u001b[0;34m\u001b[0m\u001b[0m\n\u001b[1;32m      6\u001b[0m \u001b[0msongs_b_loves\u001b[0m \u001b[0;34m=\u001b[0m \u001b[0mpd\u001b[0m\u001b[0;34m.\u001b[0m\u001b[0mread_csv\u001b[0m\u001b[0;34m(\u001b[0m\u001b[0;34m\"./songs_b_loves_final.csv\"\u001b[0m\u001b[0;34m)\u001b[0m\u001b[0;34m\u001b[0m\u001b[0;34m\u001b[0m\u001b[0m\n",
      "\u001b[0;32m~/opt/anaconda3/lib/python3.8/site-packages/pandas/io/parsers.py\u001b[0m in \u001b[0;36mread_csv\u001b[0;34m(filepath_or_buffer, sep, delimiter, header, names, index_col, usecols, squeeze, prefix, mangle_dupe_cols, dtype, engine, converters, true_values, false_values, skipinitialspace, skiprows, skipfooter, nrows, na_values, keep_default_na, na_filter, verbose, skip_blank_lines, parse_dates, infer_datetime_format, keep_date_col, date_parser, dayfirst, cache_dates, iterator, chunksize, compression, thousands, decimal, lineterminator, quotechar, quoting, doublequote, escapechar, comment, encoding, dialect, error_bad_lines, warn_bad_lines, delim_whitespace, low_memory, memory_map, float_precision)\u001b[0m\n\u001b[1;32m    684\u001b[0m     )\n\u001b[1;32m    685\u001b[0m \u001b[0;34m\u001b[0m\u001b[0m\n\u001b[0;32m--> 686\u001b[0;31m     \u001b[0;32mreturn\u001b[0m \u001b[0m_read\u001b[0m\u001b[0;34m(\u001b[0m\u001b[0mfilepath_or_buffer\u001b[0m\u001b[0;34m,\u001b[0m \u001b[0mkwds\u001b[0m\u001b[0;34m)\u001b[0m\u001b[0;34m\u001b[0m\u001b[0;34m\u001b[0m\u001b[0m\n\u001b[0m\u001b[1;32m    687\u001b[0m \u001b[0;34m\u001b[0m\u001b[0m\n\u001b[1;32m    688\u001b[0m \u001b[0;34m\u001b[0m\u001b[0m\n",
      "\u001b[0;32m~/opt/anaconda3/lib/python3.8/site-packages/pandas/io/parsers.py\u001b[0m in \u001b[0;36m_read\u001b[0;34m(filepath_or_buffer, kwds)\u001b[0m\n\u001b[1;32m    450\u001b[0m \u001b[0;34m\u001b[0m\u001b[0m\n\u001b[1;32m    451\u001b[0m     \u001b[0;31m# Create the parser.\u001b[0m\u001b[0;34m\u001b[0m\u001b[0;34m\u001b[0m\u001b[0;34m\u001b[0m\u001b[0m\n\u001b[0;32m--> 452\u001b[0;31m     \u001b[0mparser\u001b[0m \u001b[0;34m=\u001b[0m \u001b[0mTextFileReader\u001b[0m\u001b[0;34m(\u001b[0m\u001b[0mfp_or_buf\u001b[0m\u001b[0;34m,\u001b[0m \u001b[0;34m**\u001b[0m\u001b[0mkwds\u001b[0m\u001b[0;34m)\u001b[0m\u001b[0;34m\u001b[0m\u001b[0;34m\u001b[0m\u001b[0m\n\u001b[0m\u001b[1;32m    453\u001b[0m \u001b[0;34m\u001b[0m\u001b[0m\n\u001b[1;32m    454\u001b[0m     \u001b[0;32mif\u001b[0m \u001b[0mchunksize\u001b[0m \u001b[0;32mor\u001b[0m \u001b[0miterator\u001b[0m\u001b[0;34m:\u001b[0m\u001b[0;34m\u001b[0m\u001b[0;34m\u001b[0m\u001b[0m\n",
      "\u001b[0;32m~/opt/anaconda3/lib/python3.8/site-packages/pandas/io/parsers.py\u001b[0m in \u001b[0;36m__init__\u001b[0;34m(self, f, engine, **kwds)\u001b[0m\n\u001b[1;32m    944\u001b[0m             \u001b[0mself\u001b[0m\u001b[0;34m.\u001b[0m\u001b[0moptions\u001b[0m\u001b[0;34m[\u001b[0m\u001b[0;34m\"has_index_names\"\u001b[0m\u001b[0;34m]\u001b[0m \u001b[0;34m=\u001b[0m \u001b[0mkwds\u001b[0m\u001b[0;34m[\u001b[0m\u001b[0;34m\"has_index_names\"\u001b[0m\u001b[0;34m]\u001b[0m\u001b[0;34m\u001b[0m\u001b[0;34m\u001b[0m\u001b[0m\n\u001b[1;32m    945\u001b[0m \u001b[0;34m\u001b[0m\u001b[0m\n\u001b[0;32m--> 946\u001b[0;31m         \u001b[0mself\u001b[0m\u001b[0;34m.\u001b[0m\u001b[0m_make_engine\u001b[0m\u001b[0;34m(\u001b[0m\u001b[0mself\u001b[0m\u001b[0;34m.\u001b[0m\u001b[0mengine\u001b[0m\u001b[0;34m)\u001b[0m\u001b[0;34m\u001b[0m\u001b[0;34m\u001b[0m\u001b[0m\n\u001b[0m\u001b[1;32m    947\u001b[0m \u001b[0;34m\u001b[0m\u001b[0m\n\u001b[1;32m    948\u001b[0m     \u001b[0;32mdef\u001b[0m \u001b[0mclose\u001b[0m\u001b[0;34m(\u001b[0m\u001b[0mself\u001b[0m\u001b[0;34m)\u001b[0m\u001b[0;34m:\u001b[0m\u001b[0;34m\u001b[0m\u001b[0;34m\u001b[0m\u001b[0m\n",
      "\u001b[0;32m~/opt/anaconda3/lib/python3.8/site-packages/pandas/io/parsers.py\u001b[0m in \u001b[0;36m_make_engine\u001b[0;34m(self, engine)\u001b[0m\n\u001b[1;32m   1176\u001b[0m     \u001b[0;32mdef\u001b[0m \u001b[0m_make_engine\u001b[0m\u001b[0;34m(\u001b[0m\u001b[0mself\u001b[0m\u001b[0;34m,\u001b[0m \u001b[0mengine\u001b[0m\u001b[0;34m=\u001b[0m\u001b[0;34m\"c\"\u001b[0m\u001b[0;34m)\u001b[0m\u001b[0;34m:\u001b[0m\u001b[0;34m\u001b[0m\u001b[0;34m\u001b[0m\u001b[0m\n\u001b[1;32m   1177\u001b[0m         \u001b[0;32mif\u001b[0m \u001b[0mengine\u001b[0m \u001b[0;34m==\u001b[0m \u001b[0;34m\"c\"\u001b[0m\u001b[0;34m:\u001b[0m\u001b[0;34m\u001b[0m\u001b[0;34m\u001b[0m\u001b[0m\n\u001b[0;32m-> 1178\u001b[0;31m             \u001b[0mself\u001b[0m\u001b[0;34m.\u001b[0m\u001b[0m_engine\u001b[0m \u001b[0;34m=\u001b[0m \u001b[0mCParserWrapper\u001b[0m\u001b[0;34m(\u001b[0m\u001b[0mself\u001b[0m\u001b[0;34m.\u001b[0m\u001b[0mf\u001b[0m\u001b[0;34m,\u001b[0m \u001b[0;34m**\u001b[0m\u001b[0mself\u001b[0m\u001b[0;34m.\u001b[0m\u001b[0moptions\u001b[0m\u001b[0;34m)\u001b[0m\u001b[0;34m\u001b[0m\u001b[0;34m\u001b[0m\u001b[0m\n\u001b[0m\u001b[1;32m   1179\u001b[0m         \u001b[0;32melse\u001b[0m\u001b[0;34m:\u001b[0m\u001b[0;34m\u001b[0m\u001b[0;34m\u001b[0m\u001b[0m\n\u001b[1;32m   1180\u001b[0m             \u001b[0;32mif\u001b[0m \u001b[0mengine\u001b[0m \u001b[0;34m==\u001b[0m \u001b[0;34m\"python\"\u001b[0m\u001b[0;34m:\u001b[0m\u001b[0;34m\u001b[0m\u001b[0;34m\u001b[0m\u001b[0m\n",
      "\u001b[0;32m~/opt/anaconda3/lib/python3.8/site-packages/pandas/io/parsers.py\u001b[0m in \u001b[0;36m__init__\u001b[0;34m(self, src, **kwds)\u001b[0m\n\u001b[1;32m   2006\u001b[0m         \u001b[0mkwds\u001b[0m\u001b[0;34m[\u001b[0m\u001b[0;34m\"usecols\"\u001b[0m\u001b[0;34m]\u001b[0m \u001b[0;34m=\u001b[0m \u001b[0mself\u001b[0m\u001b[0;34m.\u001b[0m\u001b[0musecols\u001b[0m\u001b[0;34m\u001b[0m\u001b[0;34m\u001b[0m\u001b[0m\n\u001b[1;32m   2007\u001b[0m \u001b[0;34m\u001b[0m\u001b[0m\n\u001b[0;32m-> 2008\u001b[0;31m         \u001b[0mself\u001b[0m\u001b[0;34m.\u001b[0m\u001b[0m_reader\u001b[0m \u001b[0;34m=\u001b[0m \u001b[0mparsers\u001b[0m\u001b[0;34m.\u001b[0m\u001b[0mTextReader\u001b[0m\u001b[0;34m(\u001b[0m\u001b[0msrc\u001b[0m\u001b[0;34m,\u001b[0m \u001b[0;34m**\u001b[0m\u001b[0mkwds\u001b[0m\u001b[0;34m)\u001b[0m\u001b[0;34m\u001b[0m\u001b[0;34m\u001b[0m\u001b[0m\n\u001b[0m\u001b[1;32m   2009\u001b[0m         \u001b[0mself\u001b[0m\u001b[0;34m.\u001b[0m\u001b[0munnamed_cols\u001b[0m \u001b[0;34m=\u001b[0m \u001b[0mself\u001b[0m\u001b[0;34m.\u001b[0m\u001b[0m_reader\u001b[0m\u001b[0;34m.\u001b[0m\u001b[0munnamed_cols\u001b[0m\u001b[0;34m\u001b[0m\u001b[0;34m\u001b[0m\u001b[0m\n\u001b[1;32m   2010\u001b[0m \u001b[0;34m\u001b[0m\u001b[0m\n",
      "\u001b[0;32mpandas/_libs/parsers.pyx\u001b[0m in \u001b[0;36mpandas._libs.parsers.TextReader.__cinit__\u001b[0;34m()\u001b[0m\n",
      "\u001b[0;32mpandas/_libs/parsers.pyx\u001b[0m in \u001b[0;36mpandas._libs.parsers.TextReader._setup_parser_source\u001b[0;34m()\u001b[0m\n",
      "\u001b[0;31mFileNotFoundError\u001b[0m: [Errno 2] No such file or directory: '/Desktop/D_Sci/NYDSA_Bootcamp/capstone_spotify/top_USA_final.csv'"
     ]
    }
   ],
   "source": [
    "#Load songdata\n",
    "\n",
    "#top_annual_df = pd.read_csv(\"./top_tracks_final.csv\")\n",
    "top_tracks_USA = pd.read_csv(\"./top_USA_final.csv\")\n",
    "songs_j_loves = pd.read_csv(\"./songs_j_loves_final.csv\")\n",
    "songs_b_loves = pd.read_csv(\"./songs_b_loves_final.csv\")\n",
    "songs_k_loves = pd.read_csv(\"./spotify_kaki_favs_merged.csv\")\n",
    "songs_a_loves = pd.read_csv(\"./spotify_ali_favs_merged.csv\")\n"
   ]
  },
  {
   "cell_type": "code",
   "execution_count": null,
   "metadata": {},
   "outputs": [],
   "source": [
    "songs_j_loves.columns"
   ]
  },
  {
   "cell_type": "code",
   "execution_count": null,
   "metadata": {},
   "outputs": [],
   "source": [
    "songs_b_loves.columns"
   ]
  },
  {
   "cell_type": "code",
   "execution_count": null,
   "metadata": {},
   "outputs": [],
   "source": [
    "songs_k_loves.columns"
   ]
  },
  {
   "cell_type": "code",
   "execution_count": null,
   "metadata": {},
   "outputs": [],
   "source": [
    "songs_a_loves.columns"
   ]
  },
  {
   "cell_type": "code",
   "execution_count": null,
   "metadata": {},
   "outputs": [],
   "source": [
    "# rename columns so that they match across dataframes\n",
    "songs_b_loves.rename(columns = {\"track_name\":\"name\", \"track_id\":\"id\"}, inplace = True)\n",
    "\n",
    "# drop index column\n",
    "songs_k_loves = songs_k_loves.drop(columns=[\"index_col\"])\n",
    "songs_b_loves = songs_b_loves.drop(columns = [\"index_col\"])\n",
    "songs_a_loves = songs_a_loves.drop(columns = [\"index_col\"])"
   ]
  },
  {
   "cell_type": "code",
   "execution_count": null,
   "metadata": {},
   "outputs": [],
   "source": [
    "# reorder column names\n",
    "columns= ['id', 'name', 'artist', 'popularity', 'duration', 'danceability', \n",
    "          'energy', 'key', 'loudness', 'mode', 'speechiness', 'acousticness', \n",
    "          'instrumentalness', 'liveness', 'valence', 'tempo', 'release_date', 'release_year','album']\n",
    "\n",
    "songs_k_loves = songs_k_loves.reindex(columns, axis = \"columns\")\n",
    "songs_b_loves = songs_b_loves.reindex(columns, axis = \"columns\")\n",
    "songs_j_loves = songs_j_loves.reindex(columns, axis = \"columns\")\n",
    "\n"
   ]
  },
  {
   "cell_type": "code",
   "execution_count": null,
   "metadata": {},
   "outputs": [],
   "source": [
    "# store df column names in 3 lists so that we can compare their values\n",
    "column_names_b = songs_b_loves.columns.values.tolist()\n",
    "column_names_j = songs_j_loves.columns.values.tolist()\n",
    "column_names_k = songs_k_loves.columns.values.tolist()\n",
    "column_names_a = songs_a_loves.columns.values.tolist()\n"
   ]
  },
  {
   "cell_type": "code",
   "execution_count": null,
   "metadata": {},
   "outputs": [],
   "source": [
    "print(column_names_b)"
   ]
  },
  {
   "cell_type": "code",
   "execution_count": null,
   "metadata": {},
   "outputs": [],
   "source": [
    "print(column_names_k)"
   ]
  },
  {
   "cell_type": "code",
   "execution_count": null,
   "metadata": {},
   "outputs": [],
   "source": [
    "#confirm column names in both dataframes are identical\n",
    "column_names_b == column_names_k == column_names_j == column_names_a"
   ]
  },
  {
   "cell_type": "code",
   "execution_count": null,
   "metadata": {},
   "outputs": [],
   "source": [
    "# Visualize distributions of liked tracks\n",
    "plt.figure(1, figsize=(20, 10),)\n",
    "# Adjust the subplot layout parameters\n",
    "plt.subplots_adjust(hspace=0.5, wspace=1.0)\n",
    "\n",
    "plt.subplot(331)\n",
    "sns.distplot(songs_j_loves.tempo);\n",
    "plt.text(150, .010, r'$\\mu=\\ 120.61$', fontsize=18)\n",
    "plt.xlabel('Tempo (BMP)', fontsize=18)\n",
    "plt.grid(True)\n",
    "\n",
    "plt.subplot(332)\n",
    "sns.distplot(songs_j_loves.popularity);\n",
    "plt.text(70, .020, r'$\\mu=\\ 52.62$', fontsize=18)\n",
    "plt.xlabel('Popularity', fontsize=18)\n",
    "plt.grid(True)\n",
    "\n",
    "plt.subplot(333)\n",
    "sns.distplot(songs_j_loves.energy);\n",
    "plt.text(0.4, .2, r'$\\mu=\\ 0.58$', fontsize=18)\n",
    "plt.xlabel('Energy', fontsize=18)\n",
    "plt.grid(True)\n",
    "\n",
    "plt.subplot(334)\n",
    "sns.distplot(songs_j_loves.loudness);\n",
    "plt.text(-30, 0.10, r'$\\mu=\\ -7.40$', fontsize=22)\n",
    "plt.xlabel('Loudness  ', fontsize=18)\n",
    "plt.grid(True)\n",
    "\n",
    "plt.subplot(335)\n",
    "sns.distplot(songs_j_loves.danceability);\n",
    "plt.text(0.5, 0.2, r'$\\mu=\\ 0.69$', fontsize=22)\n",
    "plt.xlabel('Danceability ', fontsize=18)\n",
    "plt.grid(True)\n",
    "\n",
    "plt.subplot(336)\n",
    "sns.distplot(songs_j_loves.valence);\n",
    "plt.text(0.4, 0.2, r'$\\mu=\\ 0.44$', fontsize=22)\n",
    "plt.xlabel('Valence (positive mood)', fontsize=18)\n",
    "plt.grid(True)\n",
    "\n",
    "plt.subplot(337)\n",
    "sns.distplot(songs_j_loves.acousticness);\n",
    "plt.text(0.7, 1.0, r'$\\mu=\\ 0.25$', fontsize=22)\n",
    "plt.xlabel('Acousticness', fontsize=18)\n",
    "plt.grid(True)\n",
    "\n",
    "plt.subplot(338)\n",
    "sns.distplot(songs_j_loves.release_year);\n",
    "plt.text(1960, 0.02, r'$\\mu=\\ 2018$', fontsize=18)\n",
    "plt.xlim(1950, 2025)\n",
    "plt.xlabel('Release Year', fontsize=18)\n",
    "plt.grid(True)\n",
    "\n",
    "\n",
    "plt.subplot(339)\n",
    "sns.distplot(songs_j_loves.duration);\n",
    "# plt.text(0.01, 0.02, r'$\\mu=\\ 212.80$', fontsize=8)\n",
    "plt.xlabel('Song Duration (sec)', fontsize=18)\n",
    "plt.grid(True)\n",
    "\n",
    "plt.tight_layout(pad=1.0, w_pad=5.0, h_pad=1.0)"
   ]
  },
  {
   "cell_type": "markdown",
   "metadata": {},
   "source": [
    "#### Comparing the average feature values for 3 individuals favorite songs "
   ]
  },
  {
   "cell_type": "code",
   "execution_count": null,
   "metadata": {},
   "outputs": [],
   "source": [
    "# Visualize distributions of liked tracks\n",
    "plt.figure(1, figsize=(20, 10),)\n",
    "# Adjust the subplot layout parameters\n",
    "plt.subplots_adjust(hspace=0.5, wspace=1.0)\n",
    "\n",
    "plt.subplot(331)\n",
    "sns.distplot(songs_j_loves.tempo);\n",
    "sns.distplot(songs_b_loves.tempo);\n",
    "sns.distplot(songs_k_loves.tempo);\n",
    "plt.xlabel('Tempo (BPM)', fontsize=18);\n",
    "plt.legend(labels = [\"J\", \"B\", \"K\"]);\n",
    "plt.grid(True)\n",
    "\n",
    "plt.subplot(332)\n",
    "sns.distplot(songs_j_loves.popularity);\n",
    "sns.distplot(songs_b_loves.popularity);\n",
    "sns.distplot(songs_k_loves.popularity);\n",
    "plt.xlabel('Popularity', fontsize=18)\n",
    "plt.legend(labels = [\"J\", \"B\", \"K\"]);\n",
    "plt.grid(True)\n",
    "\n",
    "plt.subplot(333)\n",
    "sns.distplot(songs_j_loves.energy);\n",
    "sns.distplot(songs_b_loves.energy);\n",
    "sns.distplot(songs_k_loves.energy);\n",
    "plt.xlabel('Energy', fontsize=18);\n",
    "plt.legend(labels = [\"J\", \"B\", \"K\"]);\n",
    "plt.grid(True)\n",
    "\n",
    "plt.subplot(334)\n",
    "sns.distplot(songs_j_loves.loudness);\n",
    "sns.distplot(songs_b_loves.loudness);\n",
    "sns.distplot(songs_k_loves.loudness);\n",
    "plt.xlabel('Loudness  ', fontsize=18);\n",
    "plt.legend(labels = [\"J\", \"B\", \"K\"]);\n",
    "plt.grid(True)\n",
    "\n",
    "plt.subplot(335)\n",
    "sns.distplot(songs_j_loves.danceability);\n",
    "sns.distplot(songs_b_loves.danceability);\n",
    "sns.distplot(songs_k_loves.danceability);\n",
    "plt.xlabel('Danceability ', fontsize=18);\n",
    "plt.legend(labels = [\"J\", \"B\", \"K\"]);\n",
    "plt.grid(True)\n",
    "\n",
    "plt.subplot(336)\n",
    "sns.distplot(songs_j_loves.valence);\n",
    "sns.distplot(songs_b_loves.valence);\n",
    "sns.distplot(songs_k_loves.valence);\n",
    "plt.xlabel('Valence (positive mood)', fontsize=18);\n",
    "plt.legend(labels = [\"J\", \"B\", \"K\"]);\n",
    "plt.grid(True)\n",
    "\n",
    "plt.subplot(337)\n",
    "sns.distplot(songs_j_loves.acousticness);\n",
    "sns.distplot(songs_b_loves.acousticness);\n",
    "sns.distplot(songs_k_loves.acousticness);\n",
    "plt.xlabel('Acousticness', fontsize=18);\n",
    "plt.legend(labels = [\"J\", \"B\", \"K\"]);\n",
    "plt.grid(True)\n",
    "\n",
    "plt.subplot(338)\n",
    "sns.distplot(songs_j_loves.liveness);\n",
    "sns.distplot(songs_b_loves.liveness);\n",
    "sns.distplot(songs_k_loves.liveness);\n",
    "# plt.xlim(0, 0.02)\n",
    "plt.xlabel('Liveness', fontsize=18);\n",
    "plt.legend(labels = [\"J\", \"B\", \"K\"]);\n",
    "plt.grid(True)\n",
    "\n",
    "\n",
    "plt.subplot(339)\n",
    "sns.distplot(songs_j_loves.duration);\n",
    "sns.distplot(songs_b_loves.duration);\n",
    "sns.distplot(songs_k_loves.duration);\n",
    "# plt.text(0.01, 0.02, r'$\\mu=\\ 212.80$', fontsize=8)\n",
    "plt.xlabel('Song Duration (sec)', fontsize=18);\n",
    "plt.legend(labels = [\"J\", \"B\", \"K\"]);\n",
    "plt.grid(True)\n",
    "plt.savefig(\"./eda_chart_BvJvK\", dpi = 200)\n",
    "\n",
    "plt.tight_layout(pad=1.0, w_pad=5.0, h_pad=1.0)"
   ]
  },
  {
   "cell_type": "markdown",
   "metadata": {},
   "source": [
    "#### Comparing my Top Tracks with the Top USA Tracks"
   ]
  },
  {
   "cell_type": "code",
   "execution_count": null,
   "metadata": {},
   "outputs": [],
   "source": [
    "# Visualize distributions of liked tracks\n",
    "plt.figure(1, figsize=(20, 10),)\n",
    "# Adjust the subplot layout parameters\n",
    "plt.subplots_adjust(hspace=0.5, wspace=1.0)\n",
    "\n",
    "plt.subplot(331)\n",
    "sns.distplot(songs_j_loves.tempo);\n",
    "sns.distplot(top_tracks_USA.tempo);\n",
    "plt.xlabel('Tempo (BPM)', fontsize=18)\n",
    "plt.grid(True)\n",
    "\n",
    "plt.subplot(332)\n",
    "sns.distplot(songs_j_loves.popularity);\n",
    "sns.distplot(top_tracks_USA.popularity);\n",
    "plt.xlabel('Popularity', fontsize=18)\n",
    "plt.grid(True)\n",
    "\n",
    "plt.subplot(333)\n",
    "sns.distplot(songs_j_loves.energy);\n",
    "sns.distplot(top_tracks_USA.energy);\n",
    "plt.xlabel('Energy', fontsize=18)\n",
    "plt.grid(True)\n",
    "\n",
    "plt.subplot(334)\n",
    "sns.distplot(songs_j_loves.loudness);\n",
    "sns.distplot(top_tracks_USA.loudness);\n",
    "plt.xlabel('Loudness  ', fontsize=18)\n",
    "plt.grid(True)\n",
    "\n",
    "plt.subplot(335)\n",
    "sns.distplot(songs_j_loves.danceability);\n",
    "sns.distplot(top_tracks_USA.danceability);\n",
    "plt.xlabel('Danceability ', fontsize=18)\n",
    "plt.grid(True)\n",
    "\n",
    "plt.subplot(336)\n",
    "sns.distplot(songs_j_loves.valence);\n",
    "sns.distplot(top_tracks_USA.valence);\n",
    "plt.xlabel('Valence (positive mood)', fontsize=18)\n",
    "plt.grid(True)\n",
    "\n",
    "plt.subplot(337)\n",
    "sns.distplot(songs_j_loves.acousticness);\n",
    "sns.distplot(top_tracks_USA.acousticness);\n",
    "plt.xlabel('Acousticness', fontsize=18)\n",
    "plt.grid(True)\n",
    "\n",
    "plt.subplot(338)\n",
    "sns.distplot(songs_j_loves.liveness);\n",
    "sns.distplot(top_tracks_USA.liveness);\n",
    "# plt.xlim(0, 0.02)\n",
    "plt.xlabel('Liveness', fontsize=18)\n",
    "plt.grid(True)\n",
    "\n",
    "\n",
    "plt.subplot(339)\n",
    "sns.distplot(songs_j_loves.duration);\n",
    "sns.distplot(top_tracks_USA.duration);\n",
    "# plt.text(0.01, 0.02, r'$\\mu=\\ 212.80$', fontsize=8)\n",
    "plt.xlabel('Song Duration (sec)', fontsize=18)\n",
    "plt.grid(True)\n",
    "\n",
    "plt.tight_layout(pad=1.0, w_pad=5.0, h_pad=1.0)"
   ]
  },
  {
   "cell_type": "markdown",
   "metadata": {},
   "source": [
    "### Radar chart to compare features"
   ]
  },
  {
   "cell_type": "markdown",
   "metadata": {},
   "source": [
    "#####  Create a radar chart showing music preferences\n",
    "Steps:\n",
    "1. Create a df that contains the features we want to visualize\n",
    "2. Scale the feature values to facilitate easier visual comparison\n",
    "3. Create a Series object that contains the mean values of each feature (this is what we will visualize)\n",
    "4. Create a parameter object that includes the names of the features we want to visualize\n",
    "5. Create a range object that captures the min and max values for each feature (multiply by 25% for buffer)"
   ]
  },
  {
   "cell_type": "code",
   "execution_count": null,
   "metadata": {},
   "outputs": [],
   "source": [
    "# Create a new dataframe that only contains the columns we are interested in visualizing\n",
    "\n",
    "df_j = songs_j_loves.drop(columns= ['release_year', 'duration', 'mode', 'key', \n",
    "                                    'release_date', 'id', 'album', 'artist', 'name'])\n",
    "print(df_j.columns)\n",
    "\n",
    "df_b = songs_b_loves.drop(columns= ['release_year', 'duration', 'mode', 'key', \n",
    "                                    'release_date', 'id', 'album', 'artist', 'name'])\n",
    "print(df_b.columns)\n",
    "\n",
    "df_k = songs_k_loves.drop(columns= ['release_year', 'duration', 'mode', 'key', \n",
    "                                    'release_date', 'id', 'album', 'artist', 'name'])\n",
    "print(df_k.columns)\n"
   ]
  },
  {
   "cell_type": "code",
   "execution_count": null,
   "metadata": {},
   "outputs": [],
   "source": [
    "# For interpretability, scale the feature values using MinMax Scaler (min = 0, max = 1)\n",
    "\n",
    "#create df for each of our fav songs that we will scale\n",
    "df_j_scaled = df_j\n",
    "df_b_scaled  = df_b\n",
    "df_k_scaled = df_k\n",
    "\n",
    "\n",
    "scaler = MinMaxScaler()\n",
    "\n",
    "# transform numerical features that we will use in our models -- focus on just musical attributes\n",
    "df_j_scaled[['popularity','danceability', 'energy','loudness', 'speechiness', 'acousticness', 'instrumentalness', 'liveness', 'valence', 'tempo']] = scaler.fit_transform(df_j_scaled[['popularity', 'danceability', 'energy','loudness', 'speechiness', 'acousticness', 'instrumentalness', 'liveness', 'valence', 'tempo']])\n",
    "\n",
    "df_b_scaled[['popularity','danceability', 'energy','loudness', 'speechiness', 'acousticness', 'instrumentalness', 'liveness', 'valence', 'tempo']] = scaler.fit_transform(df_b_scaled[['popularity', 'danceability', 'energy','loudness', 'speechiness', 'acousticness', 'instrumentalness', 'liveness', 'valence', 'tempo']])\n",
    "\n",
    "df_k_scaled[['popularity','danceability', 'energy','loudness', 'speechiness', 'acousticness', 'instrumentalness', 'liveness', 'valence', 'tempo']] = scaler.fit_transform(df_k_scaled[['popularity', 'danceability', 'energy','loudness', 'speechiness', 'acousticness', 'instrumentalness', 'liveness', 'valence', 'tempo']])\n",
    "\n"
   ]
  },
  {
   "cell_type": "code",
   "execution_count": null,
   "metadata": {},
   "outputs": [],
   "source": [
    "# when we check the means and std, we see that the scaling worked\n",
    "df_j_scaled.describe()"
   ]
  },
  {
   "cell_type": "code",
   "execution_count": null,
   "metadata": {},
   "outputs": [],
   "source": [
    "df_b_scaled.describe()"
   ]
  },
  {
   "cell_type": "code",
   "execution_count": null,
   "metadata": {},
   "outputs": [],
   "source": [
    "df_k_scaled.describe()"
   ]
  },
  {
   "cell_type": "code",
   "execution_count": null,
   "metadata": {},
   "outputs": [],
   "source": [
    "# Calculate the mean value of each of our song attributes and store in a series object\n",
    "means_j = df_j_scaled.mean()\n",
    "print(means_j, \"\\n\")\n",
    "\n",
    "means_b = df_b_scaled.mean()\n",
    "print(means_b, \"\\n\")\n",
    "\n",
    "means_k = df_k_scaled.mean()\n",
    "print(means_k)\n"
   ]
  },
  {
   "cell_type": "code",
   "execution_count": null,
   "metadata": {},
   "outputs": [],
   "source": [
    "# Create an list object that stores the variable names\n",
    "params = list(means_j.index)\n",
    "params"
   ]
  },
  {
   "cell_type": "code",
   "execution_count": null,
   "metadata": {},
   "outputs": [],
   "source": [
    "# --------- Create background for spider plot\n",
    "\n",
    "# create an object that stores the number of variables we are visualizing\n",
    "N = len(params)\n",
    "\n",
    "# What will be the angle of each axis in the plot? (we divide the plot / number of variable)\n",
    "angles = [n / float(N) * 2 * pi for n in range(N)]\n",
    "angles += angles[:1]\n",
    "\n",
    "# Initialise the spider plot\n",
    "ax = plt.subplot(111, polar=True)\n",
    "#plt.rcParams['figure.facecolor'] = 'white'\n",
    "\n",
    "ax.set_facecolor(\"white\")\n",
    "\n",
    "# If you want the first axis to be on top:\n",
    "#ax.set_theta_offset(pi / 2)\n",
    "#ax.set_theta_direction(-1)\n",
    "\n",
    "\n",
    "\n",
    "# Draw one axe per variable + add labels\n",
    "plt.xticks(angles[:-1], params, color='black', size=10)\n",
    "\n",
    "# Draw ylabels\n",
    "ax.set_rlabel_position(90)\n",
    "plt.yticks([0.25,0.50,0.75], [\"0.25\",\"0.5\",\"0.75\"], color=\"dimgray\", size=10)\n",
    "plt.ylim(0,0.75)\n",
    "\n",
    "\n",
    "\n",
    "# ------- Add each individual plot\n",
    "\n",
    "#-- J's plot\n",
    "\n",
    "# We are going to plot the first line of the data frame.\n",
    "# But we need to repeat the first value to close the circular graph:\n",
    "values= list(means_j.values)\n",
    "values += values[:1] # appends the first value to the end of the list \n",
    " \n",
    "#Plot data\n",
    "ax.plot(angles, values, linewidth=1.5, linestyle='dashed', label = \"J\")\n",
    "# Fill area\n",
    "ax.fill(angles, values, 'blue', alpha=0.1)\n",
    "\n",
    "\n",
    "#-- B's Plot \n",
    "values = list(means_b.values)\n",
    "values += values[:1] # append the first value to the list to close the loop\n",
    "#Plot data\n",
    "ax.plot(angles, values, linewidth=1.5, linestyle='dashed', label = \"B\")\n",
    "# Fill area\n",
    "ax.fill(angles, values, 'red', alpha=0.1)\n",
    "\n",
    "#-- K's Plot \n",
    "values = list(means_k.values)\n",
    "values += values[:1] # append the first value to the list to close the loop\n",
    "#Plot data\n",
    "ax.plot(angles, values, linewidth=1.5, linestyle='dashed', label = \"K\")\n",
    "# Fill area\n",
    "ax.fill(angles, values, 'green', alpha=0.1)\n",
    "\n",
    "# Add legend\n",
    "blue_patch = mpatches.Patch(color='blue', label='J music')\n",
    "red_patch = mpatches.Patch(color='orange', label = 'B music')\n",
    "green_patch = mpatches.Patch(color = 'green', label = \"K music\")\n",
    "plt.legend(loc = \"upper right\",\n",
    "           handles=[blue_patch, red_patch, green_patch], bbox_to_anchor=(0.05, 0.05))\n",
    "\n",
    "# buffer for axis labels\n",
    "ax.tick_params(pad=24)\n",
    "\n",
    "# adjust size of plot\n",
    "plt.tight_layout()\n",
    "plt.rcParams[\"figure.figsize\"] = (10,15)\n",
    "# save the radar plot\n",
    "plt.savefig(\"./radar_chart_BvJvK\", dpi = 200)\n",
    "\n",
    "# Show the graph\n",
    "#plt.show()\n"
   ]
  },
  {
   "cell_type": "code",
   "execution_count": null,
   "metadata": {},
   "outputs": [],
   "source": []
  }
 ],
 "metadata": {
  "kernelspec": {
   "display_name": "Python 3",
   "language": "python",
   "name": "python3"
  },
  "language_info": {
   "codemirror_mode": {
    "name": "ipython",
    "version": 3
   },
   "file_extension": ".py",
   "mimetype": "text/x-python",
   "name": "python",
   "nbconvert_exporter": "python",
   "pygments_lexer": "ipython3",
   "version": "3.8.5"
  }
 },
 "nbformat": 4,
 "nbformat_minor": 4
}
