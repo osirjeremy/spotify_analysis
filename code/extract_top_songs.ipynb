{
 "cells": [
  {
   "cell_type": "markdown",
   "metadata": {},
   "source": [
    "## Extract saved songs from Spotify using the Spotipy API"
   ]
  },
  {
   "cell_type": "code",
   "execution_count": 2,
   "metadata": {},
   "outputs": [
    {
     "name": "stdout",
     "output_type": "stream",
     "text": [
      "Fetched 50 tracks\n",
      "\n",
      "Fetched features for 50 tracks\n",
      "\n",
      "Saved features to top_USA_tracks_1651603346.csv\n"
     ]
    }
   ],
   "source": [
    "import spotipy\n",
    "from spotipy.oauth2 import SpotifyOAuth\n",
    "from pandas import DataFrame\n",
    "# from creds import client_id, client_secret\n",
    "from time import time\n",
    "\n",
    "redirect_uri = 'https://example.com/callback'\n",
    "\n",
    "#replace with Spotify credentials\n",
    "client_id = 'XXXXXXXX'\n",
    "client_secret = 'XXXXXXXX'\n",
    "\n",
    "FEATURE_KEYS = ['danceability', 'energy', 'key', 'loudness', 'mode', 'speechiness', \n",
    "                'acousticness', 'instrumentalness', 'liveness', 'valence', 'tempo']\n",
    "OFFSET=0\n",
    "SAVED_TRACKS_LIMIT=50\n",
    "FEATURE_LIMIT = 100\n",
    "\n",
    "sp = spotipy.Spotify(auth_manager=SpotifyOAuth(client_id=client_id,\n",
    "                                               client_secret=client_secret,\n",
    "                                               redirect_uri=redirect_uri,\n",
    "                                               scope=\"user-library-read\"))\n",
    "liked_tracks=list()\n",
    "\n",
    "#replace with Spotify username, and playlist ID\n",
    "user = 'XXXXXXXXX'\n",
    "playlist_id = \"XXXXXXXX\"\n",
    "\n",
    "\n",
    "while(True):\n",
    "    paged_tracks = sp.user_playlist_tracks(user, playlist_id, limit=100)\n",
    "    liked_tracks.extend([{'name':el['track']['name'], \n",
    "                          'id':el['track']['id'], \n",
    "                          #'artist_name': el['track']['artist_name'],\n",
    "                          'popularity': el['track']['popularity'],\n",
    "                          'duration': el['track']['duration_ms']} for el in paged_tracks['items']])\n",
    "    print(f'Fetched {len(liked_tracks)} tracks')\n",
    "    OFFSET+=SAVED_TRACKS_LIMIT\n",
    "    if paged_tracks['next'] is None:\n",
    "        break\n",
    "\n",
    "def get_windowed_track_ids(liked_tracks, limit):\n",
    "    for i in range(0, len(liked_tracks), limit): \n",
    "        track_window = liked_tracks[i:i + limit]\n",
    "        yield track_window, [t['id'] for t in track_window]\n",
    "\n",
    "track_feature_list = list()\n",
    "print('')\n",
    "\n",
    "for track_window, track_window_ids in get_windowed_track_ids(liked_tracks, FEATURE_LIMIT):\n",
    "    track_features = sp.audio_features(tracks=track_window_ids)\n",
    "    for index, _track in enumerate(track_window):\n",
    "        _track.update({k:v for k,v in track_features[index].items() if k in FEATURE_KEYS})\n",
    "        track_feature_list.append(_track)\n",
    "    print(f'Fetched features for {len(track_feature_list)} tracks')\n",
    "\n",
    "df=DataFrame.from_dict(track_feature_list)\n",
    "top_songs = f'top_USA_tracks_{int(time())}.csv'\n",
    "df.to_csv(top_songs, index=False)\n",
    "print('')\n",
    "print(f'Saved features to {top_songs}')"
   ]
  },
  {
   "cell_type": "code",
   "execution_count": 4,
   "metadata": {},
   "outputs": [],
   "source": [
    "import pandas as pd"
   ]
  },
  {
   "cell_type": "code",
   "execution_count": 5,
   "metadata": {},
   "outputs": [],
   "source": [
    "#Load saved tracks into pandas dataframe\n",
    "tracks2017 = pd.read_csv(\"./top_2017_tracks_1650917514.csv\")\n",
    "tracks2018 = pd.read_csv(\"./top_2018_tracks_1650917336.csv\")\n",
    "tracks2019 = pd.read_csv(\"./top_2019_tracks_1650917226.csv\")\n",
    "tracks2020 = pd.read_csv(\"./top_2020_tracks_1650917163.csv\")\n",
    "tracks2021 = pd.read_csv(\"./top_tracks_2021.csv\")\n",
    "topUSAtracks = pd.read_csv(\"./top_USA_tracks_1651603346.csv\")"
   ]
  },
  {
   "cell_type": "code",
   "execution_count": 20,
   "metadata": {},
   "outputs": [
    {
     "name": "stdout",
     "output_type": "stream",
     "text": [
      "<class 'pandas.core.frame.DataFrame'>\n",
      "Int64Index: 500 entries, 0 to 99\n",
      "Data columns (total 15 columns):\n",
      " #   Column            Non-Null Count  Dtype  \n",
      "---  ------            --------------  -----  \n",
      " 0   name              500 non-null    object \n",
      " 1   id                500 non-null    object \n",
      " 2   popularity        500 non-null    int64  \n",
      " 3   duration          500 non-null    int64  \n",
      " 4   danceability      500 non-null    float64\n",
      " 5   energy            500 non-null    float64\n",
      " 6   key               500 non-null    int64  \n",
      " 7   loudness          500 non-null    float64\n",
      " 8   mode              500 non-null    int64  \n",
      " 9   speechiness       500 non-null    float64\n",
      " 10  acousticness      500 non-null    float64\n",
      " 11  instrumentalness  500 non-null    float64\n",
      " 12  liveness          500 non-null    float64\n",
      " 13  valence           500 non-null    float64\n",
      " 14  tempo             500 non-null    float64\n",
      "dtypes: float64(9), int64(4), object(2)\n",
      "memory usage: 62.5+ KB\n"
     ]
    }
   ],
   "source": [
    "merged_toptracks = pd.concat([tracks2017, tracks2018, tracks2019, tracks2020, tracks2021], axis= 0)\n",
    "merged_toptracks.info(5)"
   ]
  },
  {
   "cell_type": "code",
   "execution_count": 14,
   "metadata": {},
   "outputs": [],
   "source": [
    "# topUSA tracks df\n",
    "topUSA_df = df"
   ]
  },
  {
   "cell_type": "code",
   "execution_count": 21,
   "metadata": {},
   "outputs": [
    {
     "name": "stdout",
     "output_type": "stream",
     "text": [
      "500\n"
     ]
    }
   ],
   "source": [
    "# Pull track ids, which will be used to pull additional song attributes from spotipy\n",
    "track_ids = merged_toptracks[\"id\"]\n",
    "print(len(track_ids))\n",
    "track_ids = list(track_ids)"
   ]
  },
  {
   "cell_type": "code",
   "execution_count": 6,
   "metadata": {},
   "outputs": [
    {
     "name": "stdout",
     "output_type": "stream",
     "text": [
      "50\n"
     ]
    }
   ],
   "source": [
    "# Repeat above, for topUSA tracks\n",
    "track_ids = topUSAtracks[\"id\"]\n",
    "print(len(track_ids))\n",
    "track_ids = list(track_ids)"
   ]
  },
  {
   "cell_type": "code",
   "execution_count": 7,
   "metadata": {},
   "outputs": [],
   "source": [
    "# Define a formula to pull additional track attributes — track name, album, artist, and release date\n",
    "def getTrackFeatures(id):\n",
    "  meta = sp.track(id)\n",
    "\n",
    "  # meta\n",
    "  name = meta['name']\n",
    "  album = meta['album']['name']\n",
    "  artist = meta['album']['artists'][0]['name']\n",
    "  release_date = meta['album']['release_date']\n",
    "\n",
    "\n",
    "  track = [name, album, artist, release_date]\n",
    "  return track"
   ]
  },
  {
   "cell_type": "code",
   "execution_count": 8,
   "metadata": {},
   "outputs": [],
   "source": [
    "import time"
   ]
  },
  {
   "cell_type": "code",
   "execution_count": 9,
   "metadata": {},
   "outputs": [],
   "source": [
    "# pull track info and save into a dataframe\n",
    "\n",
    "tracks = []\n",
    "for i in range(len(track_ids)):\n",
    "  time.sleep(.5)\n",
    "  track = getTrackFeatures(track_ids[i])\n",
    "  tracks.append(track)\n",
    "\n",
    "# create dataset\n",
    "toptracks_attributes = pd.DataFrame(tracks, columns = ['name', 'album', 'artist', 'release_date'])\n",
    "toptracks_attributes.to_csv(\"top_track_attributes.csv\", sep = ',')"
   ]
  },
  {
   "cell_type": "code",
   "execution_count": 10,
   "metadata": {},
   "outputs": [],
   "source": [
    "toptracks_attributes['index_col'] = toptracks_attributes.index # add index column; will be used when merging track info with the attributes"
   ]
  },
  {
   "cell_type": "code",
   "execution_count": 11,
   "metadata": {},
   "outputs": [
    {
     "data": {
      "text/plain": [
       "0      0\n",
       "1      1\n",
       "2      2\n",
       "3      3\n",
       "4      4\n",
       "5      5\n",
       "6      6\n",
       "7      7\n",
       "8      8\n",
       "9      9\n",
       "10    10\n",
       "11    11\n",
       "12    12\n",
       "13    13\n",
       "14    14\n",
       "15    15\n",
       "16    16\n",
       "17    17\n",
       "18    18\n",
       "19    19\n",
       "20    20\n",
       "21    21\n",
       "22    22\n",
       "23    23\n",
       "24    24\n",
       "25    25\n",
       "26    26\n",
       "27    27\n",
       "28    28\n",
       "29    29\n",
       "30    30\n",
       "31    31\n",
       "32    32\n",
       "33    33\n",
       "34    34\n",
       "35    35\n",
       "36    36\n",
       "37    37\n",
       "38    38\n",
       "39    39\n",
       "40    40\n",
       "41    41\n",
       "42    42\n",
       "43    43\n",
       "44    44\n",
       "45    45\n",
       "46    46\n",
       "47    47\n",
       "48    48\n",
       "49    49\n",
       "Name: index_col, dtype: int64"
      ]
     },
     "execution_count": 11,
     "metadata": {},
     "output_type": "execute_result"
    }
   ],
   "source": [
    "toptracks_attributes.index_col"
   ]
  },
  {
   "cell_type": "code",
   "execution_count": 12,
   "metadata": {},
   "outputs": [
    {
     "name": "stdout",
     "output_type": "stream",
     "text": [
      "<class 'pandas.core.frame.DataFrame'>\n",
      "RangeIndex: 50 entries, 0 to 49\n",
      "Data columns (total 5 columns):\n",
      " #   Column        Non-Null Count  Dtype \n",
      "---  ------        --------------  ----- \n",
      " 0   name          50 non-null     object\n",
      " 1   album         50 non-null     object\n",
      " 2   artist        50 non-null     object\n",
      " 3   release_date  50 non-null     object\n",
      " 4   index_col     50 non-null     int64 \n",
      "dtypes: int64(1), object(4)\n",
      "memory usage: 2.1+ KB\n"
     ]
    }
   ],
   "source": [
    "toptracks_attributes.info(5)"
   ]
  },
  {
   "cell_type": "code",
   "execution_count": 30,
   "metadata": {},
   "outputs": [
    {
     "data": {
      "text/html": [
       "<div>\n",
       "<style scoped>\n",
       "    .dataframe tbody tr th:only-of-type {\n",
       "        vertical-align: middle;\n",
       "    }\n",
       "\n",
       "    .dataframe tbody tr th {\n",
       "        vertical-align: top;\n",
       "    }\n",
       "\n",
       "    .dataframe thead th {\n",
       "        text-align: right;\n",
       "    }\n",
       "</style>\n",
       "<table border=\"1\" class=\"dataframe\">\n",
       "  <thead>\n",
       "    <tr style=\"text-align: right;\">\n",
       "      <th></th>\n",
       "      <th>name</th>\n",
       "      <th>id</th>\n",
       "      <th>popularity</th>\n",
       "      <th>duration</th>\n",
       "      <th>danceability</th>\n",
       "      <th>energy</th>\n",
       "      <th>key</th>\n",
       "      <th>loudness</th>\n",
       "      <th>mode</th>\n",
       "      <th>speechiness</th>\n",
       "      <th>acousticness</th>\n",
       "      <th>instrumentalness</th>\n",
       "      <th>liveness</th>\n",
       "      <th>valence</th>\n",
       "      <th>tempo</th>\n",
       "      <th>index_col</th>\n",
       "    </tr>\n",
       "  </thead>\n",
       "  <tbody>\n",
       "    <tr>\n",
       "      <th>0</th>\n",
       "      <td>Close But Not Quite</td>\n",
       "      <td>255TTKJjoyiLYixY0MDbID</td>\n",
       "      <td>0</td>\n",
       "      <td>209201</td>\n",
       "      <td>0.803</td>\n",
       "      <td>0.604</td>\n",
       "      <td>5</td>\n",
       "      <td>-9.559</td>\n",
       "      <td>1</td>\n",
       "      <td>0.1260</td>\n",
       "      <td>0.5930</td>\n",
       "      <td>0.001980</td>\n",
       "      <td>0.1890</td>\n",
       "      <td>0.558</td>\n",
       "      <td>145.994</td>\n",
       "      <td>0</td>\n",
       "    </tr>\n",
       "    <tr>\n",
       "      <th>1</th>\n",
       "      <td>I'll Remember</td>\n",
       "      <td>0FgRpZf36QtANUUiOcod0I</td>\n",
       "      <td>7</td>\n",
       "      <td>142657</td>\n",
       "      <td>0.414</td>\n",
       "      <td>0.223</td>\n",
       "      <td>1</td>\n",
       "      <td>-10.169</td>\n",
       "      <td>1</td>\n",
       "      <td>0.0410</td>\n",
       "      <td>0.9900</td>\n",
       "      <td>0.002380</td>\n",
       "      <td>0.1180</td>\n",
       "      <td>0.197</td>\n",
       "      <td>63.950</td>\n",
       "      <td>1</td>\n",
       "    </tr>\n",
       "    <tr>\n",
       "      <th>2</th>\n",
       "      <td>oh baby</td>\n",
       "      <td>53PkA8aXiwH4ppa0V0iO7o</td>\n",
       "      <td>59</td>\n",
       "      <td>349693</td>\n",
       "      <td>0.580</td>\n",
       "      <td>0.622</td>\n",
       "      <td>5</td>\n",
       "      <td>-12.005</td>\n",
       "      <td>1</td>\n",
       "      <td>0.0352</td>\n",
       "      <td>0.0192</td>\n",
       "      <td>0.653000</td>\n",
       "      <td>0.6480</td>\n",
       "      <td>0.781</td>\n",
       "      <td>169.442</td>\n",
       "      <td>2</td>\n",
       "    </tr>\n",
       "    <tr>\n",
       "      <th>3</th>\n",
       "      <td>Sober Thoughts - Lido's Forgotten Sunday Service</td>\n",
       "      <td>1VkAGG7MomLsvhbIxPEzfP</td>\n",
       "      <td>6</td>\n",
       "      <td>177268</td>\n",
       "      <td>0.634</td>\n",
       "      <td>0.700</td>\n",
       "      <td>10</td>\n",
       "      <td>-8.068</td>\n",
       "      <td>1</td>\n",
       "      <td>0.2660</td>\n",
       "      <td>0.0045</td>\n",
       "      <td>0.000000</td>\n",
       "      <td>0.1300</td>\n",
       "      <td>0.592</td>\n",
       "      <td>94.956</td>\n",
       "      <td>3</td>\n",
       "    </tr>\n",
       "    <tr>\n",
       "      <th>4</th>\n",
       "      <td>Bad Decisions</td>\n",
       "      <td>184c1MtPKQENzNJd7fIh1t</td>\n",
       "      <td>0</td>\n",
       "      <td>297786</td>\n",
       "      <td>0.630</td>\n",
       "      <td>0.709</td>\n",
       "      <td>5</td>\n",
       "      <td>-8.150</td>\n",
       "      <td>0</td>\n",
       "      <td>0.0351</td>\n",
       "      <td>0.0491</td>\n",
       "      <td>0.008130</td>\n",
       "      <td>0.1280</td>\n",
       "      <td>0.407</td>\n",
       "      <td>105.992</td>\n",
       "      <td>4</td>\n",
       "    </tr>\n",
       "    <tr>\n",
       "      <th>...</th>\n",
       "      <td>...</td>\n",
       "      <td>...</td>\n",
       "      <td>...</td>\n",
       "      <td>...</td>\n",
       "      <td>...</td>\n",
       "      <td>...</td>\n",
       "      <td>...</td>\n",
       "      <td>...</td>\n",
       "      <td>...</td>\n",
       "      <td>...</td>\n",
       "      <td>...</td>\n",
       "      <td>...</td>\n",
       "      <td>...</td>\n",
       "      <td>...</td>\n",
       "      <td>...</td>\n",
       "      <td>...</td>\n",
       "    </tr>\n",
       "    <tr>\n",
       "      <th>95</th>\n",
       "      <td>Proud of You (feat. Lil Uzi Vert &amp; Yung Kayo)</td>\n",
       "      <td>16eZmQoeajKH8G2nPe2chk</td>\n",
       "      <td>58</td>\n",
       "      <td>211733</td>\n",
       "      <td>0.848</td>\n",
       "      <td>0.451</td>\n",
       "      <td>5</td>\n",
       "      <td>-7.539</td>\n",
       "      <td>0</td>\n",
       "      <td>0.2280</td>\n",
       "      <td>0.0208</td>\n",
       "      <td>0.000000</td>\n",
       "      <td>0.1940</td>\n",
       "      <td>0.223</td>\n",
       "      <td>135.941</td>\n",
       "      <td>95</td>\n",
       "    </tr>\n",
       "    <tr>\n",
       "      <th>96</th>\n",
       "      <td>Available</td>\n",
       "      <td>1b6tPXXCV2fSNtR3SKWUQA</td>\n",
       "      <td>58</td>\n",
       "      <td>195333</td>\n",
       "      <td>0.702</td>\n",
       "      <td>0.608</td>\n",
       "      <td>3</td>\n",
       "      <td>-6.843</td>\n",
       "      <td>1</td>\n",
       "      <td>0.0359</td>\n",
       "      <td>0.0736</td>\n",
       "      <td>0.000000</td>\n",
       "      <td>0.1290</td>\n",
       "      <td>0.597</td>\n",
       "      <td>75.012</td>\n",
       "      <td>96</td>\n",
       "    </tr>\n",
       "    <tr>\n",
       "      <th>97</th>\n",
       "      <td>willow</td>\n",
       "      <td>0lx2cLdOt3piJbcaXIV74f</td>\n",
       "      <td>77</td>\n",
       "      <td>214706</td>\n",
       "      <td>0.392</td>\n",
       "      <td>0.574</td>\n",
       "      <td>7</td>\n",
       "      <td>-9.195</td>\n",
       "      <td>1</td>\n",
       "      <td>0.1700</td>\n",
       "      <td>0.8330</td>\n",
       "      <td>0.001790</td>\n",
       "      <td>0.1450</td>\n",
       "      <td>0.529</td>\n",
       "      <td>81.112</td>\n",
       "      <td>97</td>\n",
       "    </tr>\n",
       "    <tr>\n",
       "      <th>98</th>\n",
       "      <td>Stoned at the Nail Salon</td>\n",
       "      <td>51dhTHnxNi215JiLXdyurb</td>\n",
       "      <td>13</td>\n",
       "      <td>266432</td>\n",
       "      <td>0.466</td>\n",
       "      <td>0.113</td>\n",
       "      <td>2</td>\n",
       "      <td>-13.325</td>\n",
       "      <td>1</td>\n",
       "      <td>0.0414</td>\n",
       "      <td>0.9470</td>\n",
       "      <td>0.000075</td>\n",
       "      <td>0.0986</td>\n",
       "      <td>0.104</td>\n",
       "      <td>125.369</td>\n",
       "      <td>98</td>\n",
       "    </tr>\n",
       "    <tr>\n",
       "      <th>99</th>\n",
       "      <td>9 5 . s o u t h</td>\n",
       "      <td>5R691ipUYRDYW6ehapjoj6</td>\n",
       "      <td>67</td>\n",
       "      <td>196946</td>\n",
       "      <td>0.713</td>\n",
       "      <td>0.793</td>\n",
       "      <td>2</td>\n",
       "      <td>-5.277</td>\n",
       "      <td>1</td>\n",
       "      <td>0.3970</td>\n",
       "      <td>0.2710</td>\n",
       "      <td>0.000000</td>\n",
       "      <td>0.7270</td>\n",
       "      <td>0.203</td>\n",
       "      <td>71.724</td>\n",
       "      <td>99</td>\n",
       "    </tr>\n",
       "  </tbody>\n",
       "</table>\n",
       "<p>500 rows × 16 columns</p>\n",
       "</div>"
      ],
      "text/plain": [
       "                                                name                      id  \\\n",
       "0                                Close But Not Quite  255TTKJjoyiLYixY0MDbID   \n",
       "1                                      I'll Remember  0FgRpZf36QtANUUiOcod0I   \n",
       "2                                            oh baby  53PkA8aXiwH4ppa0V0iO7o   \n",
       "3   Sober Thoughts - Lido's Forgotten Sunday Service  1VkAGG7MomLsvhbIxPEzfP   \n",
       "4                                      Bad Decisions  184c1MtPKQENzNJd7fIh1t   \n",
       "..                                               ...                     ...   \n",
       "95     Proud of You (feat. Lil Uzi Vert & Yung Kayo)  16eZmQoeajKH8G2nPe2chk   \n",
       "96                                         Available  1b6tPXXCV2fSNtR3SKWUQA   \n",
       "97                                            willow  0lx2cLdOt3piJbcaXIV74f   \n",
       "98                          Stoned at the Nail Salon  51dhTHnxNi215JiLXdyurb   \n",
       "99                                   9 5 . s o u t h  5R691ipUYRDYW6ehapjoj6   \n",
       "\n",
       "    popularity  duration  danceability  energy  key  loudness  mode  \\\n",
       "0            0    209201         0.803   0.604    5    -9.559     1   \n",
       "1            7    142657         0.414   0.223    1   -10.169     1   \n",
       "2           59    349693         0.580   0.622    5   -12.005     1   \n",
       "3            6    177268         0.634   0.700   10    -8.068     1   \n",
       "4            0    297786         0.630   0.709    5    -8.150     0   \n",
       "..         ...       ...           ...     ...  ...       ...   ...   \n",
       "95          58    211733         0.848   0.451    5    -7.539     0   \n",
       "96          58    195333         0.702   0.608    3    -6.843     1   \n",
       "97          77    214706         0.392   0.574    7    -9.195     1   \n",
       "98          13    266432         0.466   0.113    2   -13.325     1   \n",
       "99          67    196946         0.713   0.793    2    -5.277     1   \n",
       "\n",
       "    speechiness  acousticness  instrumentalness  liveness  valence    tempo  \\\n",
       "0        0.1260        0.5930          0.001980    0.1890    0.558  145.994   \n",
       "1        0.0410        0.9900          0.002380    0.1180    0.197   63.950   \n",
       "2        0.0352        0.0192          0.653000    0.6480    0.781  169.442   \n",
       "3        0.2660        0.0045          0.000000    0.1300    0.592   94.956   \n",
       "4        0.0351        0.0491          0.008130    0.1280    0.407  105.992   \n",
       "..          ...           ...               ...       ...      ...      ...   \n",
       "95       0.2280        0.0208          0.000000    0.1940    0.223  135.941   \n",
       "96       0.0359        0.0736          0.000000    0.1290    0.597   75.012   \n",
       "97       0.1700        0.8330          0.001790    0.1450    0.529   81.112   \n",
       "98       0.0414        0.9470          0.000075    0.0986    0.104  125.369   \n",
       "99       0.3970        0.2710          0.000000    0.7270    0.203   71.724   \n",
       "\n",
       "    index_col  \n",
       "0           0  \n",
       "1           1  \n",
       "2           2  \n",
       "3           3  \n",
       "4           4  \n",
       "..        ...  \n",
       "95         95  \n",
       "96         96  \n",
       "97         97  \n",
       "98         98  \n",
       "99         99  \n",
       "\n",
       "[500 rows x 16 columns]"
      ]
     },
     "execution_count": 30,
     "metadata": {},
     "output_type": "execute_result"
    }
   ],
   "source": [
    "merged_toptracks"
   ]
  },
  {
   "cell_type": "code",
   "execution_count": 32,
   "metadata": {},
   "outputs": [
    {
     "data": {
      "text/plain": [
       "0        0\n",
       "1        1\n",
       "2        2\n",
       "3        3\n",
       "4        4\n",
       "      ... \n",
       "495    495\n",
       "496    496\n",
       "497    497\n",
       "498    498\n",
       "499    499\n",
       "Name: index_col, Length: 500, dtype: int64"
      ]
     },
     "execution_count": 32,
     "metadata": {},
     "output_type": "execute_result"
    }
   ],
   "source": [
    "# add index to original merged top tracks dataframe\n",
    "merged_toptracks.index = range(0, (len(merged_toptracks)))\n",
    "merged_toptracks['index_col'] = merged_toptracks.index\n",
    "merged_toptracks.index_col"
   ]
  },
  {
   "cell_type": "code",
   "execution_count": 15,
   "metadata": {},
   "outputs": [
    {
     "data": {
      "text/plain": [
       "0      0\n",
       "1      1\n",
       "2      2\n",
       "3      3\n",
       "4      4\n",
       "5      5\n",
       "6      6\n",
       "7      7\n",
       "8      8\n",
       "9      9\n",
       "10    10\n",
       "11    11\n",
       "12    12\n",
       "13    13\n",
       "14    14\n",
       "15    15\n",
       "16    16\n",
       "17    17\n",
       "18    18\n",
       "19    19\n",
       "20    20\n",
       "21    21\n",
       "22    22\n",
       "23    23\n",
       "24    24\n",
       "25    25\n",
       "26    26\n",
       "27    27\n",
       "28    28\n",
       "29    29\n",
       "30    30\n",
       "31    31\n",
       "32    32\n",
       "33    33\n",
       "34    34\n",
       "35    35\n",
       "36    36\n",
       "37    37\n",
       "38    38\n",
       "39    39\n",
       "40    40\n",
       "41    41\n",
       "42    42\n",
       "43    43\n",
       "44    44\n",
       "45    45\n",
       "46    46\n",
       "47    47\n",
       "48    48\n",
       "49    49\n",
       "Name: index_col, dtype: int64"
      ]
     },
     "execution_count": 15,
     "metadata": {},
     "output_type": "execute_result"
    }
   ],
   "source": [
    "# add index to original top USA tracks dataframe\n",
    "topUSA_df.index = range(0, (len(topUSA_df)))\n",
    "topUSA_df['index_col'] = topUSA_df.index\n",
    "topUSA_df.index_col"
   ]
  },
  {
   "cell_type": "code",
   "execution_count": 44,
   "metadata": {},
   "outputs": [],
   "source": [
    "# merge track + attribute dfs for analysis\n",
    "top_tracks_df = pd.merge(merged_toptracks, toptracks_attributes, on = ['index_col'])\n"
   ]
  },
  {
   "cell_type": "code",
   "execution_count": 16,
   "metadata": {},
   "outputs": [],
   "source": [
    "topUSA_df = pd.merge(topUSA_df, toptracks_attributes, on = ['index_col'])"
   ]
  },
  {
   "cell_type": "code",
   "execution_count": 45,
   "metadata": {},
   "outputs": [
    {
     "data": {
      "text/html": [
       "<div>\n",
       "<style scoped>\n",
       "    .dataframe tbody tr th:only-of-type {\n",
       "        vertical-align: middle;\n",
       "    }\n",
       "\n",
       "    .dataframe tbody tr th {\n",
       "        vertical-align: top;\n",
       "    }\n",
       "\n",
       "    .dataframe thead th {\n",
       "        text-align: right;\n",
       "    }\n",
       "</style>\n",
       "<table border=\"1\" class=\"dataframe\">\n",
       "  <thead>\n",
       "    <tr style=\"text-align: right;\">\n",
       "      <th></th>\n",
       "      <th>name_x</th>\n",
       "      <th>id</th>\n",
       "      <th>popularity</th>\n",
       "      <th>duration</th>\n",
       "      <th>danceability</th>\n",
       "      <th>energy</th>\n",
       "      <th>key</th>\n",
       "      <th>loudness</th>\n",
       "      <th>mode</th>\n",
       "      <th>speechiness</th>\n",
       "      <th>acousticness</th>\n",
       "      <th>instrumentalness</th>\n",
       "      <th>liveness</th>\n",
       "      <th>valence</th>\n",
       "      <th>tempo</th>\n",
       "      <th>index_col</th>\n",
       "      <th>name_y</th>\n",
       "      <th>album</th>\n",
       "      <th>artist</th>\n",
       "      <th>release_date</th>\n",
       "    </tr>\n",
       "  </thead>\n",
       "  <tbody>\n",
       "    <tr>\n",
       "      <th>495</th>\n",
       "      <td>Proud of You (feat. Lil Uzi Vert &amp; Yung Kayo)</td>\n",
       "      <td>16eZmQoeajKH8G2nPe2chk</td>\n",
       "      <td>58</td>\n",
       "      <td>211733</td>\n",
       "      <td>0.848</td>\n",
       "      <td>0.451</td>\n",
       "      <td>5</td>\n",
       "      <td>-7.539</td>\n",
       "      <td>0</td>\n",
       "      <td>0.2280</td>\n",
       "      <td>0.0208</td>\n",
       "      <td>0.000000</td>\n",
       "      <td>0.1940</td>\n",
       "      <td>0.223</td>\n",
       "      <td>135.941</td>\n",
       "      <td>495</td>\n",
       "      <td>Proud of You (feat. Lil Uzi Vert &amp; Yung Kayo)</td>\n",
       "      <td>Slime Language 2</td>\n",
       "      <td>Young Stoner Life</td>\n",
       "      <td>2021-04-16</td>\n",
       "    </tr>\n",
       "    <tr>\n",
       "      <th>496</th>\n",
       "      <td>Available</td>\n",
       "      <td>1b6tPXXCV2fSNtR3SKWUQA</td>\n",
       "      <td>58</td>\n",
       "      <td>195333</td>\n",
       "      <td>0.702</td>\n",
       "      <td>0.608</td>\n",
       "      <td>3</td>\n",
       "      <td>-6.843</td>\n",
       "      <td>1</td>\n",
       "      <td>0.0359</td>\n",
       "      <td>0.0736</td>\n",
       "      <td>0.000000</td>\n",
       "      <td>0.1290</td>\n",
       "      <td>0.597</td>\n",
       "      <td>75.012</td>\n",
       "      <td>496</td>\n",
       "      <td>Available</td>\n",
       "      <td>Changes</td>\n",
       "      <td>Justin Bieber</td>\n",
       "      <td>2020-02-14</td>\n",
       "    </tr>\n",
       "    <tr>\n",
       "      <th>497</th>\n",
       "      <td>willow</td>\n",
       "      <td>0lx2cLdOt3piJbcaXIV74f</td>\n",
       "      <td>77</td>\n",
       "      <td>214706</td>\n",
       "      <td>0.392</td>\n",
       "      <td>0.574</td>\n",
       "      <td>7</td>\n",
       "      <td>-9.195</td>\n",
       "      <td>1</td>\n",
       "      <td>0.1700</td>\n",
       "      <td>0.8330</td>\n",
       "      <td>0.001790</td>\n",
       "      <td>0.1450</td>\n",
       "      <td>0.529</td>\n",
       "      <td>81.112</td>\n",
       "      <td>497</td>\n",
       "      <td>willow</td>\n",
       "      <td>evermore</td>\n",
       "      <td>Taylor Swift</td>\n",
       "      <td>2020-12-11</td>\n",
       "    </tr>\n",
       "    <tr>\n",
       "      <th>498</th>\n",
       "      <td>Stoned at the Nail Salon</td>\n",
       "      <td>51dhTHnxNi215JiLXdyurb</td>\n",
       "      <td>13</td>\n",
       "      <td>266432</td>\n",
       "      <td>0.466</td>\n",
       "      <td>0.113</td>\n",
       "      <td>2</td>\n",
       "      <td>-13.325</td>\n",
       "      <td>1</td>\n",
       "      <td>0.0414</td>\n",
       "      <td>0.9470</td>\n",
       "      <td>0.000075</td>\n",
       "      <td>0.0986</td>\n",
       "      <td>0.104</td>\n",
       "      <td>125.369</td>\n",
       "      <td>498</td>\n",
       "      <td>Stoned at the Nail Salon</td>\n",
       "      <td>Solar Power</td>\n",
       "      <td>Lorde</td>\n",
       "      <td>2021-08-20</td>\n",
       "    </tr>\n",
       "    <tr>\n",
       "      <th>499</th>\n",
       "      <td>9 5 . s o u t h</td>\n",
       "      <td>5R691ipUYRDYW6ehapjoj6</td>\n",
       "      <td>67</td>\n",
       "      <td>196946</td>\n",
       "      <td>0.713</td>\n",
       "      <td>0.793</td>\n",
       "      <td>2</td>\n",
       "      <td>-5.277</td>\n",
       "      <td>1</td>\n",
       "      <td>0.3970</td>\n",
       "      <td>0.2710</td>\n",
       "      <td>0.000000</td>\n",
       "      <td>0.7270</td>\n",
       "      <td>0.203</td>\n",
       "      <td>71.724</td>\n",
       "      <td>499</td>\n",
       "      <td>9 5 . s o u t h</td>\n",
       "      <td>The Off-Season</td>\n",
       "      <td>J. Cole</td>\n",
       "      <td>2021-05-14</td>\n",
       "    </tr>\n",
       "  </tbody>\n",
       "</table>\n",
       "</div>"
      ],
      "text/plain": [
       "                                            name_x                      id  \\\n",
       "495  Proud of You (feat. Lil Uzi Vert & Yung Kayo)  16eZmQoeajKH8G2nPe2chk   \n",
       "496                                      Available  1b6tPXXCV2fSNtR3SKWUQA   \n",
       "497                                         willow  0lx2cLdOt3piJbcaXIV74f   \n",
       "498                       Stoned at the Nail Salon  51dhTHnxNi215JiLXdyurb   \n",
       "499                                9 5 . s o u t h  5R691ipUYRDYW6ehapjoj6   \n",
       "\n",
       "     popularity  duration  danceability  energy  key  loudness  mode  \\\n",
       "495          58    211733         0.848   0.451    5    -7.539     0   \n",
       "496          58    195333         0.702   0.608    3    -6.843     1   \n",
       "497          77    214706         0.392   0.574    7    -9.195     1   \n",
       "498          13    266432         0.466   0.113    2   -13.325     1   \n",
       "499          67    196946         0.713   0.793    2    -5.277     1   \n",
       "\n",
       "     speechiness  acousticness  instrumentalness  liveness  valence    tempo  \\\n",
       "495       0.2280        0.0208          0.000000    0.1940    0.223  135.941   \n",
       "496       0.0359        0.0736          0.000000    0.1290    0.597   75.012   \n",
       "497       0.1700        0.8330          0.001790    0.1450    0.529   81.112   \n",
       "498       0.0414        0.9470          0.000075    0.0986    0.104  125.369   \n",
       "499       0.3970        0.2710          0.000000    0.7270    0.203   71.724   \n",
       "\n",
       "     index_col                                         name_y  \\\n",
       "495        495  Proud of You (feat. Lil Uzi Vert & Yung Kayo)   \n",
       "496        496                                      Available   \n",
       "497        497                                         willow   \n",
       "498        498                       Stoned at the Nail Salon   \n",
       "499        499                                9 5 . s o u t h   \n",
       "\n",
       "                album             artist release_date  \n",
       "495  Slime Language 2  Young Stoner Life   2021-04-16  \n",
       "496           Changes      Justin Bieber   2020-02-14  \n",
       "497          evermore       Taylor Swift   2020-12-11  \n",
       "498       Solar Power              Lorde   2021-08-20  \n",
       "499    The Off-Season            J. Cole   2021-05-14  "
      ]
     },
     "execution_count": 45,
     "metadata": {},
     "output_type": "execute_result"
    }
   ],
   "source": [
    "top_tracks_df.tail()"
   ]
  },
  {
   "cell_type": "code",
   "execution_count": 46,
   "metadata": {},
   "outputs": [
    {
     "data": {
      "text/plain": [
       "Index(['name_x', 'id', 'popularity', 'duration', 'danceability', 'energy',\n",
       "       'key', 'loudness', 'mode', 'speechiness', 'acousticness',\n",
       "       'instrumentalness', 'liveness', 'valence', 'tempo', 'index_col',\n",
       "       'album', 'artist', 'release_date'],\n",
       "      dtype='object')"
      ]
     },
     "execution_count": 46,
     "metadata": {},
     "output_type": "execute_result"
    }
   ],
   "source": [
    "top_tracks_df = top_tracks_df.drop(columns=['name_y'])\n",
    "top_tracks_df.columns"
   ]
  },
  {
   "cell_type": "code",
   "execution_count": 47,
   "metadata": {},
   "outputs": [],
   "source": [
    "top_tracks_df.rename(columns= {\"name_x\" : \"title\"}, inplace= True)"
   ]
  },
  {
   "cell_type": "code",
   "execution_count": 48,
   "metadata": {},
   "outputs": [
    {
     "data": {
      "text/plain": [
       "Index(['title', 'id', 'popularity', 'duration', 'danceability', 'energy',\n",
       "       'key', 'loudness', 'mode', 'speechiness', 'acousticness',\n",
       "       'instrumentalness', 'liveness', 'valence', 'tempo', 'index_col',\n",
       "       'album', 'artist', 'release_date'],\n",
       "      dtype='object')"
      ]
     },
     "execution_count": 48,
     "metadata": {},
     "output_type": "execute_result"
    }
   ],
   "source": [
    "top_tracks_df.columns"
   ]
  },
  {
   "cell_type": "code",
   "execution_count": 19,
   "metadata": {},
   "outputs": [
    {
     "data": {
      "text/plain": [
       "Index(['title', 'id', 'popularity', 'duration', 'danceability', 'energy',\n",
       "       'key', 'loudness', 'mode', 'speechiness', 'acousticness',\n",
       "       'instrumentalness', 'liveness', 'valence', 'tempo', 'index_col',\n",
       "       'name_y', 'album', 'artist', 'release_date'],\n",
       "      dtype='object')"
      ]
     },
     "execution_count": 19,
     "metadata": {},
     "output_type": "execute_result"
    }
   ],
   "source": [
    "topUSA_df.drop(columns=['name_y'])\n",
    "topUSA_df.rename(columns= {\"name_x\" : \"title\"}, inplace= True)\n",
    "topUSA_df.columns"
   ]
  },
  {
   "cell_type": "code",
   "execution_count": 49,
   "metadata": {},
   "outputs": [
    {
     "data": {
      "text/plain": [
       "<bound method NDFrame.describe of 0      2017\n",
       "1      2017\n",
       "2      2017\n",
       "3      2016\n",
       "4      2016\n",
       "       ... \n",
       "495    2021\n",
       "496    2020\n",
       "497    2020\n",
       "498    2021\n",
       "499    2021\n",
       "Name: release_year, Length: 500, dtype: int64>"
      ]
     },
     "execution_count": 49,
     "metadata": {},
     "output_type": "execute_result"
    }
   ],
   "source": [
    "# Create a \"release year\" column based on release date\n",
    "top_tracks_df['release_year'] = top_tracks_df['release_date'].str[0:4]\n",
    "top_tracks_df['release_year'] = pd.to_numeric(top_tracks_df['release_year'])\n",
    "top_tracks_df['release_year'].describe\n",
    "# print(saved_tracks_df)"
   ]
  },
  {
   "cell_type": "code",
   "execution_count": 52,
   "metadata": {},
   "outputs": [
    {
     "data": {
      "text/plain": [
       "2018    103\n",
       "2019    100\n",
       "2020     98\n",
       "2017     80\n",
       "2021     57\n",
       "2016     28\n",
       "2015     11\n",
       "2011      5\n",
       "2014      5\n",
       "2013      3\n",
       "2012      2\n",
       "2007      2\n",
       "1997      2\n",
       "2006      1\n",
       "2005      1\n",
       "2004      1\n",
       "1992      1\n",
       "Name: release_year, dtype: int64"
      ]
     },
     "execution_count": 52,
     "metadata": {},
     "output_type": "execute_result"
    }
   ],
   "source": [
    "top_tracks_df.release_year.value_counts()\n"
   ]
  },
  {
   "cell_type": "code",
   "execution_count": 53,
   "metadata": {},
   "outputs": [
    {
     "data": {
      "text/plain": [
       "Index(['title', 'id', 'popularity', 'duration', 'danceability', 'energy',\n",
       "       'key', 'loudness', 'mode', 'speechiness', 'acousticness',\n",
       "       'instrumentalness', 'liveness', 'valence', 'tempo', 'index_col',\n",
       "       'album', 'artist', 'release_date', 'release_year'],\n",
       "      dtype='object')"
      ]
     },
     "execution_count": 53,
     "metadata": {},
     "output_type": "execute_result"
    }
   ],
   "source": [
    "top_tracks_df.columns"
   ]
  },
  {
   "cell_type": "code",
   "execution_count": 54,
   "metadata": {},
   "outputs": [],
   "source": [
    "top_tracks_df = top_tracks_df.drop(columns=['release_date'])"
   ]
  },
  {
   "cell_type": "code",
   "execution_count": 20,
   "metadata": {},
   "outputs": [],
   "source": [
    "topUSA_df = topUSA_df.drop(columns=['release_date'])"
   ]
  },
  {
   "cell_type": "code",
   "execution_count": 55,
   "metadata": {},
   "outputs": [],
   "source": [
    "# Save as csv, will use this file for EDA and cluster analysis\n",
    "top_tracks_df.to_csv(\"top_tracks_final.csv\", sep = ',', index= False)"
   ]
  },
  {
   "cell_type": "code",
   "execution_count": 21,
   "metadata": {},
   "outputs": [],
   "source": [
    "topUSA_df.to_csv(\"top_USA_final.csv\", sep = ',', index= False)"
   ]
  },
  {
   "cell_type": "code",
   "execution_count": null,
   "metadata": {},
   "outputs": [],
   "source": []
  }
 ],
 "metadata": {
  "kernelspec": {
   "display_name": "Python 3",
   "language": "python",
   "name": "python3"
  },
  "language_info": {
   "codemirror_mode": {
    "name": "ipython",
    "version": 3
   },
   "file_extension": ".py",
   "mimetype": "text/x-python",
   "name": "python",
   "nbconvert_exporter": "python",
   "pygments_lexer": "ipython3",
   "version": "3.8.5"
  }
 },
 "nbformat": 4,
 "nbformat_minor": 4
}
