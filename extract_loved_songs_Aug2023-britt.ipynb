{
 "cells": [
  {
   "cell_type": "markdown",
   "metadata": {},
   "source": [
    "## Extract songs that Brittain loves from Spotify using the Spotipy API"
   ]
  },
  {
   "cell_type": "code",
   "execution_count": 5,
   "metadata": {},
   "outputs": [],
   "source": [
    "# load api key and code (make sure not to make publically visible)\n",
    "\n",
    "from dotenv import load_dotenv\n",
    "import os\n",
    "\n",
    "load_dotenv()\n",
    "\n",
    "api_key = os.getenv(\"API_KEY_B\")\n",
    "api_secret = os.getenv(\"API_SECRET_B\")\n"
   ]
  },
  {
   "cell_type": "code",
   "execution_count": 6,
   "metadata": {},
   "outputs": [],
   "source": [
    "import spotipy\n",
    "from spotipy.oauth2 import SpotifyClientCredentials\n",
    "import pandas as pd\n",
    "from time import time\n",
    "from pandas import DataFrame\n",
    "\n",
    "#replace with Spotify credentials before pushing to github\n",
    "cid = api_key\n",
    "secret = api_secret\n",
    "\n",
    "client_credentials_manager = SpotifyClientCredentials(client_id=cid, client_secret=secret)\n",
    "\n",
    "sp = spotipy.Spotify(client_credentials_manager = client_credentials_manager)"
   ]
  },
  {
   "cell_type": "code",
   "execution_count": 7,
   "metadata": {},
   "outputs": [
    {
     "name": "stderr",
     "output_type": "stream",
     "text": [
      "Couldn't read cache at: .cache\n"
     ]
    },
    {
     "name": "stdout",
     "output_type": "stream",
     "text": [
      "\n"
     ]
    },
    {
     "name": "stdin",
     "output_type": "stream",
     "text": [
      "Enter the URL you were redirected to:  https://example.com/callback?code=AQApnv4p4LBKJuxgyxIwbh72i6zzQNAPnDDQxROvnBbHFj485Bhn8Jy8o4ccL17fQMHTImBbV6-rhMLQ6SwlmYSlac_7sOcTakWN-__rIgwfoxpJlJjx1MktjjIv-cd26WqWplxS_9UvQd6hRcKiBjtkn3v7tldHM5xJPtKPNk1aiPkEpo1-YbIaNwxWYptD5_9H\n"
     ]
    },
    {
     "name": "stdout",
     "output_type": "stream",
     "text": [
      "Fetched 50 tracks\n",
      "Fetched 100 tracks\n",
      "Fetched 150 tracks\n",
      "Fetched 200 tracks\n",
      "Fetched 250 tracks\n",
      "Fetched 300 tracks\n",
      "Fetched 350 tracks\n",
      "Fetched 400 tracks\n",
      "Fetched 450 tracks\n",
      "Fetched 500 tracks\n",
      "Fetched 550 tracks\n",
      "Fetched 600 tracks\n",
      "Fetched 650 tracks\n",
      "Fetched 700 tracks\n",
      "Fetched 750 tracks\n",
      "Fetched 800 tracks\n",
      "Fetched 850 tracks\n",
      "Fetched 900 tracks\n",
      "Fetched 950 tracks\n",
      "Fetched 1000 tracks\n",
      "Fetched 1050 tracks\n",
      "Fetched 1100 tracks\n",
      "Fetched 1150 tracks\n",
      "Fetched 1200 tracks\n",
      "Fetched 1250 tracks\n",
      "Fetched 1300 tracks\n",
      "Fetched 1350 tracks\n",
      "Fetched 1400 tracks\n",
      "Fetched 1450 tracks\n",
      "Fetched 1500 tracks\n",
      "Fetched 1550 tracks\n",
      "Fetched 1600 tracks\n",
      "Fetched 1650 tracks\n",
      "Fetched 1700 tracks\n",
      "Fetched 1750 tracks\n",
      "Fetched 1800 tracks\n",
      "Fetched 1850 tracks\n",
      "Fetched 1900 tracks\n",
      "Fetched 1950 tracks\n",
      "Fetched 2000 tracks\n",
      "Fetched 2050 tracks\n",
      "Fetched 2100 tracks\n",
      "Fetched 2150 tracks\n",
      "Fetched 2200 tracks\n",
      "Fetched 2250 tracks\n",
      "Fetched 2300 tracks\n",
      "Fetched 2350 tracks\n",
      "Fetched 2400 tracks\n",
      "Fetched 2450 tracks\n",
      "Fetched 2500 tracks\n",
      "Fetched 2550 tracks\n",
      "Fetched 2600 tracks\n",
      "Fetched 2650 tracks\n",
      "Fetched 2700 tracks\n",
      "Fetched 2750 tracks\n",
      "Fetched 2800 tracks\n",
      "Fetched 2850 tracks\n",
      "Fetched 2900 tracks\n",
      "Fetched 2950 tracks\n",
      "Fetched 3000 tracks\n",
      "Fetched 3050 tracks\n",
      "Fetched 3100 tracks\n",
      "Fetched 3150 tracks\n",
      "Fetched 3200 tracks\n",
      "Fetched 3250 tracks\n",
      "Fetched 3300 tracks\n",
      "Fetched 3350 tracks\n",
      "Fetched 3400 tracks\n",
      "Fetched 3445 tracks\n",
      "\n",
      "Fetched features for 100 tracks\n",
      "Fetched features for 200 tracks\n",
      "Fetched features for 300 tracks\n",
      "Fetched features for 400 tracks\n",
      "Fetched features for 500 tracks\n",
      "Fetched features for 600 tracks\n",
      "Fetched features for 700 tracks\n",
      "Fetched features for 800 tracks\n",
      "Fetched features for 900 tracks\n",
      "Fetched features for 1000 tracks\n",
      "Fetched features for 1100 tracks\n",
      "Fetched features for 1200 tracks\n",
      "Fetched features for 1300 tracks\n",
      "Fetched features for 1400 tracks\n",
      "Fetched features for 1500 tracks\n",
      "Fetched features for 1600 tracks\n",
      "Fetched features for 1700 tracks\n",
      "Fetched features for 1800 tracks\n",
      "Fetched features for 1900 tracks\n",
      "Fetched features for 2000 tracks\n",
      "Fetched features for 2100 tracks\n",
      "Fetched features for 2200 tracks\n",
      "Fetched features for 2300 tracks\n",
      "Fetched features for 2400 tracks\n",
      "Fetched features for 2500 tracks\n",
      "Fetched features for 2600 tracks\n",
      "Fetched features for 2700 tracks\n",
      "Fetched features for 2800 tracks\n",
      "Fetched features for 2900 tracks\n",
      "Fetched features for 3000 tracks\n",
      "Fetched features for 3100 tracks\n",
      "Fetched features for 3200 tracks\n",
      "Fetched features for 3300 tracks\n",
      "Fetched features for 3400 tracks\n",
      "Fetched features for 3445 tracks\n",
      "\n",
      "Saved features to songs_b_loves.csv\n"
     ]
    }
   ],
   "source": [
    "# Use spotipy to pull britt's loved songs\n",
    "from spotipy.oauth2 import SpotifyOAuth\n",
    "\n",
    "redirect_uri = 'https://example.com/callback'\n",
    "\n",
    "FEATURE_KEYS = ['danceability', 'energy', 'key', 'loudness', 'mode', 'speechiness', \n",
    "                'acousticness', 'instrumentalness', 'liveness', 'valence', 'tempo']\n",
    "OFFSET=0\n",
    "SAVED_TRACKS_LIMIT=50\n",
    "FEATURE_LIMIT = 100\n",
    "\n",
    "sp = spotipy.Spotify(auth_manager=SpotifyOAuth(client_id=cid,\n",
    "                                               client_secret=secret,\n",
    "                                               redirect_uri=redirect_uri,\n",
    "                                               scope=\"user-library-read\"))\n",
    "\n",
    "liked_tracks=list()\n",
    "print('')\n",
    "\n",
    "while(True):\n",
    "    paged_tracks = sp.current_user_saved_tracks(offset=OFFSET, limit=SAVED_TRACKS_LIMIT)\n",
    "    liked_tracks.extend([{'name':el['track']['name'], \n",
    "                          'id':el['track']['id'], \n",
    "                          'popularity': el['track']['popularity'],\n",
    "                          'duration': el['track']['duration_ms']} for el in paged_tracks['items']])\n",
    "    print(f'Fetched {len(liked_tracks)} tracks')\n",
    "    OFFSET+=SAVED_TRACKS_LIMIT\n",
    "    if paged_tracks['next'] is None:\n",
    "        break\n",
    "\n",
    "def get_windowed_track_ids(liked_tracks, limit):\n",
    "    for i in range(0, len(liked_tracks), limit): \n",
    "        track_window = liked_tracks[i:i + limit]\n",
    "        yield track_window, [t['id'] for t in track_window]\n",
    "\n",
    "track_feature_list = list()\n",
    "print('')\n",
    "\n",
    "for track_window, track_window_ids in get_windowed_track_ids(liked_tracks, FEATURE_LIMIT):\n",
    "    track_features = sp.audio_features(tracks=track_window_ids)\n",
    "    for index, _track in enumerate(track_window):\n",
    "        _track.update({k:v for k,v in track_features[index].items() if k in FEATURE_KEYS})\n",
    "        track_feature_list.append(_track)\n",
    "    print(f'Fetched features for {len(track_feature_list)} tracks')\n",
    "\n",
    "songs_b_loves_df =DataFrame.from_dict(track_feature_list)\n",
    "loved_songs = 'songs_b_loves.csv'\n",
    "songs_b_loves_df.to_csv(loved_songs, index=False)\n",
    "print('')\n",
    "print(f'Saved features to {loved_songs}')"
   ]
  },
  {
   "cell_type": "code",
   "execution_count": 8,
   "metadata": {},
   "outputs": [
    {
     "name": "stdout",
     "output_type": "stream",
     "text": [
      "<class 'pandas.core.frame.DataFrame'>\n",
      "RangeIndex: 3445 entries, 0 to 3444\n",
      "Data columns (total 15 columns):\n",
      " #   Column            Non-Null Count  Dtype  \n",
      "---  ------            --------------  -----  \n",
      " 0   name              3445 non-null   object \n",
      " 1   id                3445 non-null   object \n",
      " 2   popularity        3445 non-null   int64  \n",
      " 3   duration          3445 non-null   int64  \n",
      " 4   danceability      3445 non-null   float64\n",
      " 5   energy            3445 non-null   float64\n",
      " 6   key               3445 non-null   int64  \n",
      " 7   loudness          3445 non-null   float64\n",
      " 8   mode              3445 non-null   int64  \n",
      " 9   speechiness       3445 non-null   float64\n",
      " 10  acousticness      3445 non-null   float64\n",
      " 11  instrumentalness  3445 non-null   float64\n",
      " 12  liveness          3445 non-null   float64\n",
      " 13  valence           3445 non-null   float64\n",
      " 14  tempo             3445 non-null   float64\n",
      "dtypes: float64(9), int64(4), object(2)\n",
      "memory usage: 403.8+ KB\n"
     ]
    }
   ],
   "source": [
    "songs_b_loves_df.info()"
   ]
  },
  {
   "cell_type": "code",
   "execution_count": 9,
   "metadata": {},
   "outputs": [
    {
     "name": "stdout",
     "output_type": "stream",
     "text": [
      "3445\n"
     ]
    }
   ],
   "source": [
    "# Pull track ids, which will be used to pull additional song attributes from spotipy\n",
    "track_ids = songs_b_loves_df[\"id\"]\n",
    "print(len(track_ids))\n",
    "track_ids = list(track_ids)"
   ]
  },
  {
   "cell_type": "code",
   "execution_count": 10,
   "metadata": {},
   "outputs": [],
   "source": [
    "# Define a formula to pull additional track attributes — track name, album, artist, and release date\n",
    "def getTrackFeatures(id):\n",
    "  meta = sp.track(id)\n",
    "\n",
    "  # meta\n",
    "  name = meta['name']\n",
    "  album = meta['album']['name']\n",
    "  artist = meta['album']['artists'][0]['name']\n",
    "  release_date = meta['album']['release_date']\n",
    "\n",
    "\n",
    "  track = [name, album, artist, release_date]\n",
    "  return track"
   ]
  },
  {
   "cell_type": "code",
   "execution_count": 11,
   "metadata": {},
   "outputs": [],
   "source": [
    "# pull track info and save into a dataframe\n",
    "\n",
    "tracks = []\n",
    "for i in range(len(track_ids)):\n",
    "  #time.sleep(.5)\n",
    "  track = getTrackFeatures(track_ids[i])\n",
    "  tracks.append(track)\n",
    "\n",
    "# create dataset\n",
    "loved_tracks_attributes = pd.DataFrame(tracks, columns = ['name', 'album', 'artist','release_date'])\n",
    "loved_tracks_attributes.to_csv(\"loved_tracks_attributes_Aug2023_britt.csv\", sep = ',')"
   ]
  },
  {
   "cell_type": "code",
   "execution_count": 12,
   "metadata": {},
   "outputs": [],
   "source": [
    "loved_tracks_attributes['index_col'] = loved_tracks_attributes.index # add index column; will be used when merging track info with the attributes"
   ]
  },
  {
   "cell_type": "code",
   "execution_count": 13,
   "metadata": {},
   "outputs": [
    {
     "data": {
      "text/plain": [
       "0          0\n",
       "1          1\n",
       "2          2\n",
       "3          3\n",
       "4          4\n",
       "        ... \n",
       "3440    3440\n",
       "3441    3441\n",
       "3442    3442\n",
       "3443    3443\n",
       "3444    3444\n",
       "Name: index_col, Length: 3445, dtype: int64"
      ]
     },
     "execution_count": 13,
     "metadata": {},
     "output_type": "execute_result"
    }
   ],
   "source": [
    "loved_tracks_attributes.index_col"
   ]
  },
  {
   "cell_type": "code",
   "execution_count": 14,
   "metadata": {},
   "outputs": [
    {
     "name": "stdout",
     "output_type": "stream",
     "text": [
      "<class 'pandas.core.frame.DataFrame'>\n",
      "RangeIndex: 3445 entries, 0 to 3444\n",
      "Data columns (total 5 columns):\n",
      " #   Column        Non-Null Count  Dtype \n",
      "---  ------        --------------  ----- \n",
      " 0   name          3445 non-null   object\n",
      " 1   album         3445 non-null   object\n",
      " 2   artist        3445 non-null   object\n",
      " 3   release_date  3445 non-null   object\n",
      " 4   index_col     3445 non-null   int64 \n",
      "dtypes: int64(1), object(4)\n",
      "memory usage: 134.7+ KB\n"
     ]
    }
   ],
   "source": [
    "loved_tracks_attributes.info(5)"
   ]
  },
  {
   "cell_type": "code",
   "execution_count": 16,
   "metadata": {},
   "outputs": [],
   "source": [
    "# add index to original loved tracks file for merging\n",
    "songs_b_loves_df['index_col'] = songs_b_loves_df.index"
   ]
  },
  {
   "cell_type": "code",
   "execution_count": 17,
   "metadata": {},
   "outputs": [],
   "source": [
    "# merge loved songs and attributes\n",
    "loved_tracks_df = pd.merge(songs_b_loves_df, loved_tracks_attributes, on = ['index_col'])"
   ]
  },
  {
   "cell_type": "code",
   "execution_count": 18,
   "metadata": {},
   "outputs": [
    {
     "data": {
      "text/plain": [
       "Index(['name_x', 'id', 'popularity', 'duration', 'danceability', 'energy',\n",
       "       'key', 'loudness', 'mode', 'speechiness', 'acousticness',\n",
       "       'instrumentalness', 'liveness', 'valence', 'tempo', 'index_col',\n",
       "       'name_y', 'album', 'artist', 'release_date'],\n",
       "      dtype='object')"
      ]
     },
     "execution_count": 18,
     "metadata": {},
     "output_type": "execute_result"
    }
   ],
   "source": [
    "#top_tracks_df = top_tracks_df.drop(columns=['name_y'])\n",
    "loved_tracks_df.columns"
   ]
  },
  {
   "cell_type": "code",
   "execution_count": 19,
   "metadata": {},
   "outputs": [
    {
     "data": {
      "text/plain": [
       "Index(['name_x', 'id', 'popularity', 'duration', 'danceability', 'energy',\n",
       "       'key', 'loudness', 'mode', 'speechiness', 'acousticness',\n",
       "       'instrumentalness', 'liveness', 'valence', 'tempo', 'index_col',\n",
       "       'album', 'artist', 'release_date'],\n",
       "      dtype='object')"
      ]
     },
     "execution_count": 19,
     "metadata": {},
     "output_type": "execute_result"
    }
   ],
   "source": [
    "loved_tracks_df = loved_tracks_df.drop(columns=['name_y'])\n",
    "loved_tracks_df.columns"
   ]
  },
  {
   "cell_type": "code",
   "execution_count": 20,
   "metadata": {},
   "outputs": [],
   "source": [
    "loved_tracks_df.rename(columns= {\"name_x\" : \"track_name\"}, inplace= True)"
   ]
  },
  {
   "cell_type": "code",
   "execution_count": 21,
   "metadata": {},
   "outputs": [
    {
     "data": {
      "text/plain": [
       "<bound method NDFrame.describe of 0       2023\n",
       "1       2023\n",
       "2       2023\n",
       "3       2023\n",
       "4       2023\n",
       "        ... \n",
       "3440    2015\n",
       "3441    2015\n",
       "3442    2015\n",
       "3443    2015\n",
       "3444    2015\n",
       "Name: release_year, Length: 3445, dtype: int64>"
      ]
     },
     "execution_count": 21,
     "metadata": {},
     "output_type": "execute_result"
    }
   ],
   "source": [
    "# Create a \"release year\" column based on release date\n",
    "loved_tracks_df['release_year'] = loved_tracks_df['release_date'].str[0:4]\n",
    "loved_tracks_df['release_year'] = pd.to_numeric(loved_tracks_df['release_year'])\n",
    "loved_tracks_df['release_year'].describe\n",
    "# print(saved_tracks_df)"
   ]
  },
  {
   "cell_type": "code",
   "execution_count": 22,
   "metadata": {},
   "outputs": [
    {
     "data": {
      "text/plain": [
       "2016    837\n",
       "2015    753\n",
       "2017    314\n",
       "2019    258\n",
       "2018    248\n",
       "2020    171\n",
       "2014    112\n",
       "2022    109\n",
       "2021    103\n",
       "2010     94\n",
       "2012     88\n",
       "2013     51\n",
       "2000     38\n",
       "2005     38\n",
       "2023     32\n",
       "1975     22\n",
       "2011     21\n",
       "2007     15\n",
       "1966     14\n",
       "1974     13\n",
       "1977     13\n",
       "2009     12\n",
       "1989     11\n",
       "2004     10\n",
       "2006      7\n",
       "2003      5\n",
       "2008      5\n",
       "1979      5\n",
       "1994      4\n",
       "1969      4\n",
       "1997      3\n",
       "1995      3\n",
       "1987      3\n",
       "1971      3\n",
       "1992      3\n",
       "1985      2\n",
       "1970      2\n",
       "1988      2\n",
       "1960      2\n",
       "2002      2\n",
       "1973      2\n",
       "1999      1\n",
       "1998      1\n",
       "1990      1\n",
       "1980      1\n",
       "1976      1\n",
       "1983      1\n",
       "1972      1\n",
       "1967      1\n",
       "1968      1\n",
       "2001      1\n",
       "1996      1\n",
       "Name: release_year, dtype: int64"
      ]
     },
     "execution_count": 22,
     "metadata": {},
     "output_type": "execute_result"
    }
   ],
   "source": [
    "loved_tracks_df.release_year.value_counts()"
   ]
  },
  {
   "cell_type": "code",
   "execution_count": 23,
   "metadata": {},
   "outputs": [],
   "source": [
    "# Save as csv, will use this file for EDA and cluster analysis\n",
    "loved_tracks_df.to_csv(\"songs_b_loves_final.csv\", sep = ',', index= False)"
   ]
  }
 ],
 "metadata": {
  "kernelspec": {
   "display_name": "Python 3",
   "language": "python",
   "name": "python3"
  },
  "language_info": {
   "codemirror_mode": {
    "name": "ipython",
    "version": 3
   },
   "file_extension": ".py",
   "mimetype": "text/x-python",
   "name": "python",
   "nbconvert_exporter": "python",
   "pygments_lexer": "ipython3",
   "version": "3.8.5"
  }
 },
 "nbformat": 4,
 "nbformat_minor": 4
}
