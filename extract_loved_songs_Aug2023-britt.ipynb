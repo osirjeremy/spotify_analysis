{
 "cells": [
  {
   "cell_type": "markdown",
   "metadata": {},
   "source": [
    "## Extract songs that Brittain loves from Spotify using the Spotipy API"
   ]
  },
  {
   "cell_type": "code",
   "execution_count": null,
   "metadata": {},
   "outputs": [],
   "source": [
    "# load api key and code (make sure not to make publically visible)\n",
    "\n",
    "from dotenv import load_dotenv\n",
    "import os\n",
    "\n",
    "load_dotenv()\n",
    "\n",
    "api_key = os.getenv(\"API_KEY_B\")\n",
    "api_secret = os.getenv(\"API_SECRET_B\")\n"
   ]
  },
  {
   "cell_type": "code",
   "execution_count": null,
   "metadata": {},
   "outputs": [],
   "source": [
    "import spotipy\n",
    "from spotipy.oauth2 import SpotifyClientCredentials\n",
    "import pandas as pd\n",
    "from time import time\n",
    "from pandas import DataFrame\n",
    "\n",
    "#replace with Spotify credentials before pushing to github\n",
    "cid = api_key\n",
    "secret = api_secret\n",
    "\n",
    "client_credentials_manager = SpotifyClientCredentials(client_id=cid, client_secret=secret)\n",
    "\n",
    "sp = spotipy.Spotify(client_credentials_manager = client_credentials_manager)"
   ]
  },
  {
   "cell_type": "code",
   "execution_count": null,
   "metadata": {},
   "outputs": [],
   "source": [
    "# Use spotipy to pull britt's loved songs\n",
    "from spotipy.oauth2 import SpotifyOAuth\n",
    "\n",
    "redirect_uri = 'https://example.com/callback'\n",
    "\n",
    "FEATURE_KEYS = ['danceability', 'energy', 'key', 'loudness', 'mode', 'speechiness', \n",
    "                'acousticness', 'instrumentalness', 'liveness', 'valence', 'tempo']\n",
    "OFFSET=0\n",
    "SAVED_TRACKS_LIMIT=50\n",
    "FEATURE_LIMIT = 100\n",
    "\n",
    "sp = spotipy.Spotify(auth_manager=SpotifyOAuth(client_id=cid,\n",
    "                                               client_secret=secret,\n",
    "                                               redirect_uri=redirect_uri,\n",
    "                                               scope=\"user-library-read\"))\n",
    "\n",
    "liked_tracks=list()\n",
    "print('')\n",
    "\n",
    "while(True):\n",
    "    paged_tracks = sp.current_user_saved_tracks(offset=OFFSET, limit=SAVED_TRACKS_LIMIT)\n",
    "    liked_tracks.extend([{'name':el['track']['name'], \n",
    "                          'id':el['track']['id'], \n",
    "                          'popularity': el['track']['popularity'],\n",
    "                          'duration': el['track']['duration_ms']} for el in paged_tracks['items']])\n",
    "    print(f'Fetched {len(liked_tracks)} tracks')\n",
    "    OFFSET+=SAVED_TRACKS_LIMIT\n",
    "    if paged_tracks['next'] is None:\n",
    "        break\n",
    "\n",
    "def get_windowed_track_ids(liked_tracks, limit):\n",
    "    for i in range(0, len(liked_tracks), limit): \n",
    "        track_window = liked_tracks[i:i + limit]\n",
    "        yield track_window, [t['id'] for t in track_window]\n",
    "\n",
    "track_feature_list = list()\n",
    "print('')\n",
    "\n",
    "for track_window, track_window_ids in get_windowed_track_ids(liked_tracks, FEATURE_LIMIT):\n",
    "    track_features = sp.audio_features(tracks=track_window_ids)\n",
    "    for index, _track in enumerate(track_window):\n",
    "        _track.update({k:v for k,v in track_features[index].items() if k in FEATURE_KEYS})\n",
    "        track_feature_list.append(_track)\n",
    "    print(f'Fetched features for {len(track_feature_list)} tracks')\n",
    "\n",
    "songs_b_loves_df =DataFrame.from_dict(track_feature_list)\n",
    "loved_songs = 'songs_b_loves.csv'\n",
    "songs_b_loves_df.to_csv(loved_songs, index=False)\n",
    "print('')\n",
    "print(f'Saved features to {loved_songs}')"
   ]
  },
  {
   "cell_type": "code",
   "execution_count": null,
   "metadata": {},
   "outputs": [],
   "source": [
    "songs_b_loves_df.info()"
   ]
  },
  {
   "cell_type": "code",
   "execution_count": null,
   "metadata": {},
   "outputs": [],
   "source": [
    "# Pull track ids, which will be used to pull additional song attributes from spotipy\n",
    "track_ids = songs_b_loves_df[\"id\"]\n",
    "print(len(track_ids))\n",
    "track_ids = list(track_ids)"
   ]
  },
  {
   "cell_type": "code",
   "execution_count": null,
   "metadata": {},
   "outputs": [],
   "source": [
    "# Define a formula to pull additional track attributes — track name, album, artist, and release date\n",
    "def getTrackFeatures(id):\n",
    "  meta = sp.track(id)\n",
    "\n",
    "  # meta\n",
    "  name = meta['name']\n",
    "  album = meta['album']['name']\n",
    "  artist = meta['album']['artists'][0]['name']\n",
    "  release_date = meta['album']['release_date']\n",
    "\n",
    "\n",
    "  track = [name, album, artist, release_date]\n",
    "  return track"
   ]
  },
  {
   "cell_type": "code",
   "execution_count": null,
   "metadata": {},
   "outputs": [],
   "source": [
    "# pull track info and save into a dataframe\n",
    "\n",
    "tracks = []\n",
    "for i in range(len(track_ids)):\n",
    "  #time.sleep(.5)\n",
    "  track = getTrackFeatures(track_ids[i])\n",
    "  tracks.append(track)\n",
    "\n",
    "# create dataset\n",
    "loved_tracks_attributes = pd.DataFrame(tracks, columns = ['name', 'album', 'artist','release_date'])\n",
    "loved_tracks_attributes.to_csv(\"loved_tracks_attributes_Aug2023_britt.csv\", sep = ',')"
   ]
  },
  {
   "cell_type": "code",
   "execution_count": null,
   "metadata": {},
   "outputs": [],
   "source": [
    "loved_tracks_attributes['index_col'] = loved_tracks_attributes.index # add index column; will be used when merging track info with the attributes"
   ]
  },
  {
   "cell_type": "code",
   "execution_count": null,
   "metadata": {},
   "outputs": [],
   "source": [
    "loved_tracks_attributes.index_col"
   ]
  },
  {
   "cell_type": "code",
   "execution_count": null,
   "metadata": {},
   "outputs": [],
   "source": [
    "loved_tracks_attributes.info(5)"
   ]
  },
  {
   "cell_type": "code",
   "execution_count": null,
   "metadata": {},
   "outputs": [],
   "source": [
    "# add index to original loved tracks file for merging\n",
    "songs_b_loves_df['index_col'] = songs_b_loves_df.index"
   ]
  },
  {
   "cell_type": "code",
   "execution_count": null,
   "metadata": {},
   "outputs": [],
   "source": [
    "# merge loved songs and attributes\n",
    "loved_tracks_df = pd.merge(songs_b_loves_df, loved_tracks_attributes, on = ['index_col'])"
   ]
  },
  {
   "cell_type": "code",
   "execution_count": null,
   "metadata": {},
   "outputs": [],
   "source": [
    "#top_tracks_df = top_tracks_df.drop(columns=['name_y'])\n",
    "loved_tracks_df.columns"
   ]
  },
  {
   "cell_type": "code",
   "execution_count": null,
   "metadata": {},
   "outputs": [],
   "source": [
    "loved_tracks_df = loved_tracks_df.drop(columns=['name_y'])\n",
    "loved_tracks_df.columns"
   ]
  },
  {
   "cell_type": "raw",
   "metadata": {},
   "source": [
    "loved_tracks_df.rename(columns= {\"name_x\" : \"track_name\"}, inplace= True)"
   ]
  },
  {
   "cell_type": "code",
   "execution_count": null,
   "metadata": {},
   "outputs": [],
   "source": [
    "# Create a \"release year\" column based on release date\n",
    "loved_tracks_df['release_year'] = loved_tracks_df['release_date'].str[0:4]\n",
    "loved_tracks_df['release_year'] = pd.to_numeric(loved_tracks_df['release_year'])\n",
    "loved_tracks_df['release_year'].describe\n",
    "# print(saved_tracks_df)"
   ]
  },
  {
   "cell_type": "code",
   "execution_count": null,
   "metadata": {},
   "outputs": [],
   "source": [
    "loved_tracks_df.release_year.value_counts()"
   ]
  },
  {
   "cell_type": "code",
   "execution_count": null,
   "metadata": {},
   "outputs": [],
   "source": [
    "# Save as csv, will use this file for EDA and cluster analysis\n",
    "loved_tracks_df.to_csv(\"songs_b_loves_final.csv\", sep = ',', index= False)"
   ]
  }
 ],
 "metadata": {
  "kernelspec": {
   "display_name": "Python 3",
   "language": "python",
   "name": "python3"
  },
  "language_info": {
   "codemirror_mode": {
    "name": "ipython",
    "version": 3
   },
   "file_extension": ".py",
   "mimetype": "text/x-python",
   "name": "python",
   "nbconvert_exporter": "python",
   "pygments_lexer": "ipython3",
   "version": "3.8.5"
  }
 },
 "nbformat": 4,
 "nbformat_minor": 4
}
