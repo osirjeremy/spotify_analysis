{
 "cells": [
  {
   "cell_type": "markdown",
   "metadata": {},
   "source": [
    "## Extract songs that Jeremy loves from Spotify using the Spotipy API"
   ]
  },
  {
   "cell_type": "code",
   "execution_count": 1,
   "metadata": {},
   "outputs": [],
   "source": [
    "# load api key and code (make sure not to make publically visible)\n",
    "\n",
    "from dotenv import load_dotenv\n",
    "import os\n",
    "\n",
    "load_dotenv()\n",
    "\n",
    "api_key = os.getenv(\"API_KEY\")\n",
    "api_secret = os.getenv(\"API_SECRET\")\n"
   ]
  },
  {
   "cell_type": "code",
   "execution_count": 29,
   "metadata": {},
   "outputs": [],
   "source": [
    "import spotipy\n",
    "from spotipy.oauth2 import SpotifyClientCredentials\n",
    "import pandas as pd\n",
    "from time import time\n",
    "from pandas import DataFrame\n",
    "\n",
    "#replace with Spotify credentials before pushing to github\n",
    "cid = api_key\n",
    "secret = api_secret\n",
    "\n",
    "client_credentials_manager = SpotifyClientCredentials(client_id=cid, client_secret=secret)\n",
    "\n",
    "sp = spotipy.Spotify(client_credentials_manager = client_credentials_manager)\n"
   ]
  },
  {
   "cell_type": "code",
   "execution_count": 37,
   "metadata": {},
   "outputs": [
    {
     "name": "stdout",
     "output_type": "stream",
     "text": [
      "\n"
     ]
    },
    {
     "ename": "KeyError",
     "evalue": "'artist'",
     "output_type": "error",
     "traceback": [
      "\u001b[0;31m---------------------------------------------------------------------------\u001b[0m",
      "\u001b[0;31mKeyError\u001b[0m                                  Traceback (most recent call last)",
      "\u001b[0;32m<ipython-input-37-56b99e71041c>\u001b[0m in \u001b[0;36m<module>\u001b[0;34m\u001b[0m\n\u001b[1;32m     20\u001b[0m \u001b[0;32mwhile\u001b[0m\u001b[0;34m(\u001b[0m\u001b[0;32mTrue\u001b[0m\u001b[0;34m)\u001b[0m\u001b[0;34m:\u001b[0m\u001b[0;34m\u001b[0m\u001b[0;34m\u001b[0m\u001b[0m\n\u001b[1;32m     21\u001b[0m     \u001b[0mpaged_tracks\u001b[0m \u001b[0;34m=\u001b[0m \u001b[0msp\u001b[0m\u001b[0;34m.\u001b[0m\u001b[0mcurrent_user_saved_tracks\u001b[0m\u001b[0;34m(\u001b[0m\u001b[0moffset\u001b[0m\u001b[0;34m=\u001b[0m\u001b[0mOFFSET\u001b[0m\u001b[0;34m,\u001b[0m \u001b[0mlimit\u001b[0m\u001b[0;34m=\u001b[0m\u001b[0mSAVED_TRACKS_LIMIT\u001b[0m\u001b[0;34m)\u001b[0m\u001b[0;34m\u001b[0m\u001b[0;34m\u001b[0m\u001b[0m\n\u001b[0;32m---> 22\u001b[0;31m     liked_tracks.extend([{'name':el['track']['name'], \n\u001b[0m\u001b[1;32m     23\u001b[0m                           \u001b[0;34m'id'\u001b[0m\u001b[0;34m:\u001b[0m\u001b[0mel\u001b[0m\u001b[0;34m[\u001b[0m\u001b[0;34m'track'\u001b[0m\u001b[0;34m]\u001b[0m\u001b[0;34m[\u001b[0m\u001b[0;34m'id'\u001b[0m\u001b[0;34m]\u001b[0m\u001b[0;34m,\u001b[0m\u001b[0;34m\u001b[0m\u001b[0;34m\u001b[0m\u001b[0m\n\u001b[1;32m     24\u001b[0m                           \u001b[0;34m'artist'\u001b[0m\u001b[0;34m:\u001b[0m \u001b[0mel\u001b[0m\u001b[0;34m[\u001b[0m\u001b[0;34m'track'\u001b[0m\u001b[0;34m]\u001b[0m\u001b[0;34m[\u001b[0m\u001b[0;34m'artist'\u001b[0m\u001b[0;34m]\u001b[0m\u001b[0;34m,\u001b[0m\u001b[0;34m\u001b[0m\u001b[0;34m\u001b[0m\u001b[0m\n",
      "\u001b[0;32m<ipython-input-37-56b99e71041c>\u001b[0m in \u001b[0;36m<listcomp>\u001b[0;34m(.0)\u001b[0m\n\u001b[1;32m     22\u001b[0m     liked_tracks.extend([{'name':el['track']['name'], \n\u001b[1;32m     23\u001b[0m                           \u001b[0;34m'id'\u001b[0m\u001b[0;34m:\u001b[0m\u001b[0mel\u001b[0m\u001b[0;34m[\u001b[0m\u001b[0;34m'track'\u001b[0m\u001b[0;34m]\u001b[0m\u001b[0;34m[\u001b[0m\u001b[0;34m'id'\u001b[0m\u001b[0;34m]\u001b[0m\u001b[0;34m,\u001b[0m\u001b[0;34m\u001b[0m\u001b[0;34m\u001b[0m\u001b[0m\n\u001b[0;32m---> 24\u001b[0;31m                           \u001b[0;34m'artist'\u001b[0m\u001b[0;34m:\u001b[0m \u001b[0mel\u001b[0m\u001b[0;34m[\u001b[0m\u001b[0;34m'track'\u001b[0m\u001b[0;34m]\u001b[0m\u001b[0;34m[\u001b[0m\u001b[0;34m'artist'\u001b[0m\u001b[0;34m]\u001b[0m\u001b[0;34m,\u001b[0m\u001b[0;34m\u001b[0m\u001b[0;34m\u001b[0m\u001b[0m\n\u001b[0m\u001b[1;32m     25\u001b[0m                           \u001b[0;34m'popularity'\u001b[0m\u001b[0;34m:\u001b[0m \u001b[0mel\u001b[0m\u001b[0;34m[\u001b[0m\u001b[0;34m'track'\u001b[0m\u001b[0;34m]\u001b[0m\u001b[0;34m[\u001b[0m\u001b[0;34m'popularity'\u001b[0m\u001b[0;34m]\u001b[0m\u001b[0;34m,\u001b[0m\u001b[0;34m\u001b[0m\u001b[0;34m\u001b[0m\u001b[0m\n\u001b[1;32m     26\u001b[0m                           'duration': el['track']['duration_ms']} for el in paged_tracks['items']])\n",
      "\u001b[0;31mKeyError\u001b[0m: 'artist'"
     ]
    }
   ],
   "source": [
    "# Alternative to pull 4500+ songs\n",
    "from spotipy.oauth2 import SpotifyOAuth\n",
    "\n",
    "redirect_uri = 'https://example.com/callback'\n",
    "\n",
    "FEATURE_KEYS = ['danceability', 'energy', 'key', 'loudness', 'mode', 'speechiness', \n",
    "                'acousticness', 'instrumentalness', 'liveness', 'valence', 'tempo']\n",
    "OFFSET=0\n",
    "SAVED_TRACKS_LIMIT=50\n",
    "FEATURE_LIMIT = 100\n",
    "\n",
    "sp = spotipy.Spotify(auth_manager=SpotifyOAuth(client_id=cid,\n",
    "                                               client_secret=secret,\n",
    "                                               redirect_uri=redirect_uri,\n",
    "                                               scope=\"user-library-read\"))\n",
    "\n",
    "liked_tracks=list()\n",
    "print('')\n",
    "\n",
    "while(True):\n",
    "    paged_tracks = sp.current_user_saved_tracks(offset=OFFSET, limit=SAVED_TRACKS_LIMIT)\n",
    "    liked_tracks.extend([{'name':el['track']['name'], \n",
    "                          'id':el['track']['id'], \n",
    "                          #'artist_name': el['track']['artist_name'],\n",
    "                          'popularity': el['track']['popularity'],\n",
    "                          'duration': el['track']['duration_ms']} for el in paged_tracks['items']])\n",
    "    print(f'Fetched {len(liked_tracks)} tracks')\n",
    "    OFFSET+=SAVED_TRACKS_LIMIT\n",
    "    if paged_tracks['next'] is None:\n",
    "        break\n",
    "\n",
    "def get_windowed_track_ids(liked_tracks, limit):\n",
    "    for i in range(0, len(liked_tracks), limit): \n",
    "        track_window = liked_tracks[i:i + limit]\n",
    "        yield track_window, [t['id'] for t in track_window]\n",
    "\n",
    "track_feature_list = list()\n",
    "print('')\n",
    "\n",
    "for track_window, track_window_ids in get_windowed_track_ids(liked_tracks, FEATURE_LIMIT):\n",
    "    track_features = sp.audio_features(tracks=track_window_ids)\n",
    "    for index, _track in enumerate(track_window):\n",
    "        _track.update({k:v for k,v in track_features[index].items() if k in FEATURE_KEYS})\n",
    "        track_feature_list.append(_track)\n",
    "    print(f'Fetched features for {len(track_feature_list)} tracks')\n",
    "\n",
    "songs_j_loves_df =DataFrame.from_dict(track_feature_list)\n",
    "loved_songs = 'songs_j_loves.csv'\n",
    "songs_j_loves_df.to_csv(loved_songs, index=False)\n",
    "print('')\n",
    "print(f'Saved features to {loved_songs}')"
   ]
  },
  {
   "cell_type": "code",
   "execution_count": 42,
   "metadata": {},
   "outputs": [
    {
     "name": "stdout",
     "output_type": "stream",
     "text": [
      "<class 'pandas.core.frame.DataFrame'>\n",
      "RangeIndex: 4565 entries, 0 to 4564\n",
      "Data columns (total 15 columns):\n",
      " #   Column            Non-Null Count  Dtype  \n",
      "---  ------            --------------  -----  \n",
      " 0   name              4565 non-null   object \n",
      " 1   id                4565 non-null   object \n",
      " 2   popularity        4565 non-null   int64  \n",
      " 3   duration          4565 non-null   int64  \n",
      " 4   danceability      4565 non-null   float64\n",
      " 5   energy            4565 non-null   float64\n",
      " 6   key               4565 non-null   int64  \n",
      " 7   loudness          4565 non-null   float64\n",
      " 8   mode              4565 non-null   int64  \n",
      " 9   speechiness       4565 non-null   float64\n",
      " 10  acousticness      4565 non-null   float64\n",
      " 11  instrumentalness  4565 non-null   float64\n",
      " 12  liveness          4565 non-null   float64\n",
      " 13  valence           4565 non-null   float64\n",
      " 14  tempo             4565 non-null   float64\n",
      "dtypes: float64(9), int64(4), object(2)\n",
      "memory usage: 535.1+ KB\n"
     ]
    }
   ],
   "source": [
    "songs_j_loves_df.info()"
   ]
  },
  {
   "cell_type": "code",
   "execution_count": 7,
   "metadata": {
    "jupyter": {
     "source_hidden": true
    }
   },
   "outputs": [],
   "source": [
    "# This code chunk only pulls 100 tracks at a time - workshop later\n",
    "# def call_playlist(creator, playlist_id):\n",
    "    \n",
    "#     #step1\n",
    "\n",
    "#     playlist_features_list = [\"artist\",\"album\",\"track_name\", \"track_id\",\n",
    "#                               \"danceability\",\"energy\",\"key\",\"loudness\",\"mode\", \n",
    "#                               \"speechiness\",\"instrumentalness\",\"liveness\",\"valence\",\n",
    "#                               \"tempo\", \"duration_ms\",\"time_signature\"]\n",
    "    \n",
    "#     playlist_df = pd.DataFrame(columns = playlist_features_list)\n",
    "    \n",
    "#     #step2\n",
    "    \n",
    "#     playlist = sp.user_playlist_tracks(creator, playlist_id)[\"items\"]\n",
    "    \n",
    "#     for track in playlist:\n",
    "#         # Create empty dict\n",
    "#         playlist_features = {}\n",
    "#         # Get metadata\n",
    "#         playlist_features[\"artist\"] = track[\"track\"][\"album\"][\"artists\"][0][\"name\"]\n",
    "#         playlist_features[\"album\"] = track[\"track\"][\"album\"][\"name\"]\n",
    "#         playlist_features[\"track_name\"] = track[\"track\"][\"name\"]\n",
    "#         playlist_features[\"track_id\"] = track[\"track\"][\"id\"]\n",
    "        \n",
    "#         # Get audio features\n",
    "#         audio_features = sp.audio_features(playlist_features[\"track_id\"])[0]\n",
    "#         for feature in playlist_features_list[4:]:\n",
    "#             playlist_features[feature] = audio_features[feature]\n",
    "        \n",
    "#         # Concat the dfs\n",
    "#         track_df = pd.DataFrame(playlist_features, index = [0])\n",
    "#         playlist_df = pd.concat([playlist_df, track_df], ignore_index = True)\n",
    "#         playlist_df.to_csv('songs_j_loves.csv', index=False)\n",
    "#     #Step 3\n",
    "        \n",
    "#     return playlist_df"
   ]
  },
  {
   "cell_type": "code",
   "execution_count": 8,
   "metadata": {
    "collapsed": true,
    "jupyter": {
     "outputs_hidden": true,
     "source_hidden": true
    }
   },
   "outputs": [
    {
     "data": {
      "text/html": [
       "<div>\n",
       "<style scoped>\n",
       "    .dataframe tbody tr th:only-of-type {\n",
       "        vertical-align: middle;\n",
       "    }\n",
       "\n",
       "    .dataframe tbody tr th {\n",
       "        vertical-align: top;\n",
       "    }\n",
       "\n",
       "    .dataframe thead th {\n",
       "        text-align: right;\n",
       "    }\n",
       "</style>\n",
       "<table border=\"1\" class=\"dataframe\">\n",
       "  <thead>\n",
       "    <tr style=\"text-align: right;\">\n",
       "      <th></th>\n",
       "      <th>artist</th>\n",
       "      <th>album</th>\n",
       "      <th>track_name</th>\n",
       "      <th>track_id</th>\n",
       "      <th>danceability</th>\n",
       "      <th>energy</th>\n",
       "      <th>key</th>\n",
       "      <th>loudness</th>\n",
       "      <th>mode</th>\n",
       "      <th>speechiness</th>\n",
       "      <th>instrumentalness</th>\n",
       "      <th>liveness</th>\n",
       "      <th>valence</th>\n",
       "      <th>tempo</th>\n",
       "      <th>duration_ms</th>\n",
       "      <th>time_signature</th>\n",
       "    </tr>\n",
       "  </thead>\n",
       "  <tbody>\n",
       "    <tr>\n",
       "      <th>0</th>\n",
       "      <td>Bring Me The Horizon</td>\n",
       "      <td>sTraNgeRs</td>\n",
       "      <td>sTraNgeRs</td>\n",
       "      <td>5fpq1wF8xa5tSSlcKHdmGQ</td>\n",
       "      <td>0.346</td>\n",
       "      <td>0.939</td>\n",
       "      <td>5</td>\n",
       "      <td>-3.061</td>\n",
       "      <td>1</td>\n",
       "      <td>0.1820</td>\n",
       "      <td>0</td>\n",
       "      <td>0.4330</td>\n",
       "      <td>0.526</td>\n",
       "      <td>183.147</td>\n",
       "      <td>195748</td>\n",
       "      <td>3</td>\n",
       "    </tr>\n",
       "    <tr>\n",
       "      <th>1</th>\n",
       "      <td>ThxSoMch</td>\n",
       "      <td>HOW YOU ALWAYS LOOK SO GOOD?</td>\n",
       "      <td>HOW YOU ALWAYS LOOK SO GOOD?</td>\n",
       "      <td>7hnC8qa5dgwXOgbVt3E7Ze</td>\n",
       "      <td>0.653</td>\n",
       "      <td>0.631</td>\n",
       "      <td>11</td>\n",
       "      <td>-8.876</td>\n",
       "      <td>0</td>\n",
       "      <td>0.0758</td>\n",
       "      <td>0.00326</td>\n",
       "      <td>0.0953</td>\n",
       "      <td>0.303</td>\n",
       "      <td>87.642</td>\n",
       "      <td>128596</td>\n",
       "      <td>4</td>\n",
       "    </tr>\n",
       "    <tr>\n",
       "      <th>2</th>\n",
       "      <td>ThxSoMch</td>\n",
       "      <td>Waste My Mind</td>\n",
       "      <td>Waste My Mind</td>\n",
       "      <td>6NP8HBlNKQzsq8K9O5dK0f</td>\n",
       "      <td>0.421</td>\n",
       "      <td>0.645</td>\n",
       "      <td>0</td>\n",
       "      <td>-9.056</td>\n",
       "      <td>1</td>\n",
       "      <td>0.0320</td>\n",
       "      <td>0.326</td>\n",
       "      <td>0.3690</td>\n",
       "      <td>0.106</td>\n",
       "      <td>144.838</td>\n",
       "      <td>162207</td>\n",
       "      <td>4</td>\n",
       "    </tr>\n",
       "    <tr>\n",
       "      <th>3</th>\n",
       "      <td>EKKSTACY</td>\n",
       "      <td>misery</td>\n",
       "      <td>i want to sleep for 1000 years</td>\n",
       "      <td>7mkzJI9BqAO3twUNuv4Nen</td>\n",
       "      <td>0.599</td>\n",
       "      <td>0.696</td>\n",
       "      <td>2</td>\n",
       "      <td>-5.970</td>\n",
       "      <td>1</td>\n",
       "      <td>0.0235</td>\n",
       "      <td>0.692</td>\n",
       "      <td>0.0848</td>\n",
       "      <td>0.327</td>\n",
       "      <td>99.990</td>\n",
       "      <td>135667</td>\n",
       "      <td>1</td>\n",
       "    </tr>\n",
       "    <tr>\n",
       "      <th>4</th>\n",
       "      <td>Gunna</td>\n",
       "      <td>fukumean</td>\n",
       "      <td>fukumean (sped up version)</td>\n",
       "      <td>4YjUP1tr06laO1GSXaQqsJ</td>\n",
       "      <td>0.737</td>\n",
       "      <td>0.751</td>\n",
       "      <td>4</td>\n",
       "      <td>-6.606</td>\n",
       "      <td>0</td>\n",
       "      <td>0.1630</td>\n",
       "      <td>0</td>\n",
       "      <td>0.1120</td>\n",
       "      <td>0.404</td>\n",
       "      <td>162.380</td>\n",
       "      <td>100020</td>\n",
       "      <td>4</td>\n",
       "    </tr>\n",
       "    <tr>\n",
       "      <th>...</th>\n",
       "      <td>...</td>\n",
       "      <td>...</td>\n",
       "      <td>...</td>\n",
       "      <td>...</td>\n",
       "      <td>...</td>\n",
       "      <td>...</td>\n",
       "      <td>...</td>\n",
       "      <td>...</td>\n",
       "      <td>...</td>\n",
       "      <td>...</td>\n",
       "      <td>...</td>\n",
       "      <td>...</td>\n",
       "      <td>...</td>\n",
       "      <td>...</td>\n",
       "      <td>...</td>\n",
       "      <td>...</td>\n",
       "    </tr>\n",
       "    <tr>\n",
       "      <th>95</th>\n",
       "      <td>Partiboi69</td>\n",
       "      <td>Ride Hard</td>\n",
       "      <td>Bloodstream</td>\n",
       "      <td>41EvLMzjL6drfwvJ7qaVhR</td>\n",
       "      <td>0.635</td>\n",
       "      <td>0.880</td>\n",
       "      <td>11</td>\n",
       "      <td>-8.419</td>\n",
       "      <td>0</td>\n",
       "      <td>0.0716</td>\n",
       "      <td>0.74</td>\n",
       "      <td>0.5850</td>\n",
       "      <td>0.766</td>\n",
       "      <td>140.040</td>\n",
       "      <td>268000</td>\n",
       "      <td>4</td>\n",
       "    </tr>\n",
       "    <tr>\n",
       "      <th>96</th>\n",
       "      <td>Flyleaf</td>\n",
       "      <td>Flyleaf</td>\n",
       "      <td>I'm So Sick</td>\n",
       "      <td>0bqb8cyz8MfgE5IYklNYWD</td>\n",
       "      <td>0.431</td>\n",
       "      <td>0.959</td>\n",
       "      <td>10</td>\n",
       "      <td>-4.257</td>\n",
       "      <td>1</td>\n",
       "      <td>0.0855</td>\n",
       "      <td>6.44e-06</td>\n",
       "      <td>0.1190</td>\n",
       "      <td>0.268</td>\n",
       "      <td>153.926</td>\n",
       "      <td>176160</td>\n",
       "      <td>4</td>\n",
       "    </tr>\n",
       "    <tr>\n",
       "      <th>97</th>\n",
       "      <td>Hoobastank</td>\n",
       "      <td>Hoobastank (20th Anniversary Edition)</td>\n",
       "      <td>Crawling In The Dark</td>\n",
       "      <td>1PJRDeZSoZk7gtisdTYfLi</td>\n",
       "      <td>0.588</td>\n",
       "      <td>0.927</td>\n",
       "      <td>6</td>\n",
       "      <td>-4.776</td>\n",
       "      <td>0</td>\n",
       "      <td>0.1130</td>\n",
       "      <td>3.83e-05</td>\n",
       "      <td>0.1950</td>\n",
       "      <td>0.652</td>\n",
       "      <td>93.571</td>\n",
       "      <td>175227</td>\n",
       "      <td>4</td>\n",
       "    </tr>\n",
       "    <tr>\n",
       "      <th>98</th>\n",
       "      <td>Deftones</td>\n",
       "      <td>Around the Fur</td>\n",
       "      <td>My Own Summer (Shove It)</td>\n",
       "      <td>1158ckiB5S4cpsdYHDB9IF</td>\n",
       "      <td>0.443</td>\n",
       "      <td>0.781</td>\n",
       "      <td>1</td>\n",
       "      <td>-4.277</td>\n",
       "      <td>1</td>\n",
       "      <td>0.0377</td>\n",
       "      <td>0.205</td>\n",
       "      <td>0.1660</td>\n",
       "      <td>0.372</td>\n",
       "      <td>71.841</td>\n",
       "      <td>214760</td>\n",
       "      <td>4</td>\n",
       "    </tr>\n",
       "    <tr>\n",
       "      <th>99</th>\n",
       "      <td>Korn</td>\n",
       "      <td>Follow The Leader</td>\n",
       "      <td>Got the Life</td>\n",
       "      <td>6nJPHXRpKYv2yqtalEjKy5</td>\n",
       "      <td>0.501</td>\n",
       "      <td>0.905</td>\n",
       "      <td>11</td>\n",
       "      <td>-5.721</td>\n",
       "      <td>0</td>\n",
       "      <td>0.0518</td>\n",
       "      <td>0.765</td>\n",
       "      <td>0.3830</td>\n",
       "      <td>0.584</td>\n",
       "      <td>123.277</td>\n",
       "      <td>225307</td>\n",
       "      <td>4</td>\n",
       "    </tr>\n",
       "  </tbody>\n",
       "</table>\n",
       "<p>100 rows × 16 columns</p>\n",
       "</div>"
      ],
      "text/plain": [
       "                  artist                                  album  \\\n",
       "0   Bring Me The Horizon                              sTraNgeRs   \n",
       "1               ThxSoMch           HOW YOU ALWAYS LOOK SO GOOD?   \n",
       "2               ThxSoMch                          Waste My Mind   \n",
       "3               EKKSTACY                                 misery   \n",
       "4                  Gunna                               fukumean   \n",
       "..                   ...                                    ...   \n",
       "95            Partiboi69                              Ride Hard   \n",
       "96               Flyleaf                                Flyleaf   \n",
       "97            Hoobastank  Hoobastank (20th Anniversary Edition)   \n",
       "98              Deftones                         Around the Fur   \n",
       "99                  Korn                      Follow The Leader   \n",
       "\n",
       "                        track_name                track_id  danceability  \\\n",
       "0                        sTraNgeRs  5fpq1wF8xa5tSSlcKHdmGQ         0.346   \n",
       "1     HOW YOU ALWAYS LOOK SO GOOD?  7hnC8qa5dgwXOgbVt3E7Ze         0.653   \n",
       "2                    Waste My Mind  6NP8HBlNKQzsq8K9O5dK0f         0.421   \n",
       "3   i want to sleep for 1000 years  7mkzJI9BqAO3twUNuv4Nen         0.599   \n",
       "4       fukumean (sped up version)  4YjUP1tr06laO1GSXaQqsJ         0.737   \n",
       "..                             ...                     ...           ...   \n",
       "95                     Bloodstream  41EvLMzjL6drfwvJ7qaVhR         0.635   \n",
       "96                     I'm So Sick  0bqb8cyz8MfgE5IYklNYWD         0.431   \n",
       "97            Crawling In The Dark  1PJRDeZSoZk7gtisdTYfLi         0.588   \n",
       "98        My Own Summer (Shove It)  1158ckiB5S4cpsdYHDB9IF         0.443   \n",
       "99                    Got the Life  6nJPHXRpKYv2yqtalEjKy5         0.501   \n",
       "\n",
       "    energy key  loudness mode  speechiness instrumentalness  liveness  \\\n",
       "0    0.939   5    -3.061    1       0.1820                0    0.4330   \n",
       "1    0.631  11    -8.876    0       0.0758          0.00326    0.0953   \n",
       "2    0.645   0    -9.056    1       0.0320            0.326    0.3690   \n",
       "3    0.696   2    -5.970    1       0.0235            0.692    0.0848   \n",
       "4    0.751   4    -6.606    0       0.1630                0    0.1120   \n",
       "..     ...  ..       ...  ...          ...              ...       ...   \n",
       "95   0.880  11    -8.419    0       0.0716             0.74    0.5850   \n",
       "96   0.959  10    -4.257    1       0.0855         6.44e-06    0.1190   \n",
       "97   0.927   6    -4.776    0       0.1130         3.83e-05    0.1950   \n",
       "98   0.781   1    -4.277    1       0.0377            0.205    0.1660   \n",
       "99   0.905  11    -5.721    0       0.0518            0.765    0.3830   \n",
       "\n",
       "    valence    tempo duration_ms time_signature  \n",
       "0     0.526  183.147      195748              3  \n",
       "1     0.303   87.642      128596              4  \n",
       "2     0.106  144.838      162207              4  \n",
       "3     0.327   99.990      135667              1  \n",
       "4     0.404  162.380      100020              4  \n",
       "..      ...      ...         ...            ...  \n",
       "95    0.766  140.040      268000              4  \n",
       "96    0.268  153.926      176160              4  \n",
       "97    0.652   93.571      175227              4  \n",
       "98    0.372   71.841      214760              4  \n",
       "99    0.584  123.277      225307              4  \n",
       "\n",
       "[100 rows x 16 columns]"
      ]
     },
     "execution_count": 8,
     "metadata": {},
     "output_type": "execute_result"
    }
   ],
   "source": [
    "# call_playlist('Jeremy Osir', '6b9w5j7viQQbRZL0vmSTxv')\n",
    "\n",
    "#https://open.spotify.com/playlist/6b9w5j7viQQbRZL0vmSTxv?si=b617155b8d824890"
   ]
  },
  {
   "cell_type": "code",
   "execution_count": 44,
   "metadata": {},
   "outputs": [
    {
     "name": "stdout",
     "output_type": "stream",
     "text": [
      "4565\n"
     ]
    }
   ],
   "source": [
    "# Pull track ids, which will be used to pull additional song attributes from spotipy\n",
    "track_ids = songs_j_loves_df[\"id\"]\n",
    "print(len(track_ids))\n",
    "track_ids = list(track_ids)"
   ]
  },
  {
   "cell_type": "code",
   "execution_count": 45,
   "metadata": {},
   "outputs": [],
   "source": [
    "# Define a formula to pull additional track attributes — track name, album, artist, and release date\n",
    "def getTrackFeatures(id):\n",
    "  meta = sp.track(id)\n",
    "\n",
    "  # meta\n",
    "  name = meta['name']\n",
    "  album = meta['album']['name']\n",
    "  artist = meta['album']['artists'][0]['name']\n",
    "  release_date = meta['album']['release_date']\n",
    "\n",
    "\n",
    "  track = [name, album, artist, release_date]\n",
    "  return track"
   ]
  },
  {
   "cell_type": "code",
   "execution_count": 46,
   "metadata": {},
   "outputs": [],
   "source": [
    "import time"
   ]
  },
  {
   "cell_type": "code",
   "execution_count": 49,
   "metadata": {},
   "outputs": [],
   "source": [
    "# pull track info and save into a dataframe\n",
    "\n",
    "tracks = []\n",
    "for i in range(len(track_ids)):\n",
    "  #time.sleep(.5)\n",
    "  track = getTrackFeatures(track_ids[i])\n",
    "  tracks.append(track)\n",
    "\n",
    "# create dataset\n",
    "loved_tracks_attributes = pd.DataFrame(tracks, columns = ['name', 'album', 'artist','release_date'])\n",
    "loved_tracks_attributes.to_csv(\"loved_tracks_attributes_Aug2023.csv\", sep = ',')"
   ]
  },
  {
   "cell_type": "code",
   "execution_count": 50,
   "metadata": {},
   "outputs": [],
   "source": [
    "loved_tracks_attributes['index_col'] = loved_tracks_attributes.index # add index column; will be used when merging track info with the attributes"
   ]
  },
  {
   "cell_type": "code",
   "execution_count": 51,
   "metadata": {},
   "outputs": [
    {
     "data": {
      "text/plain": [
       "0          0\n",
       "1          1\n",
       "2          2\n",
       "3          3\n",
       "4          4\n",
       "        ... \n",
       "4560    4560\n",
       "4561    4561\n",
       "4562    4562\n",
       "4563    4563\n",
       "4564    4564\n",
       "Name: index_col, Length: 4565, dtype: int64"
      ]
     },
     "execution_count": 51,
     "metadata": {},
     "output_type": "execute_result"
    }
   ],
   "source": [
    "loved_tracks_attributes.index_col"
   ]
  },
  {
   "cell_type": "code",
   "execution_count": 52,
   "metadata": {},
   "outputs": [
    {
     "name": "stdout",
     "output_type": "stream",
     "text": [
      "<class 'pandas.core.frame.DataFrame'>\n",
      "RangeIndex: 4565 entries, 0 to 4564\n",
      "Data columns (total 5 columns):\n",
      " #   Column        Non-Null Count  Dtype \n",
      "---  ------        --------------  ----- \n",
      " 0   name          4565 non-null   object\n",
      " 1   album         4565 non-null   object\n",
      " 2   artist        4565 non-null   object\n",
      " 3   release_date  4565 non-null   object\n",
      " 4   index_col     4565 non-null   int64 \n",
      "dtypes: int64(1), object(4)\n",
      "memory usage: 178.4+ KB\n"
     ]
    }
   ],
   "source": [
    "loved_tracks_attributes.info(5)"
   ]
  },
  {
   "cell_type": "code",
   "execution_count": 69,
   "metadata": {},
   "outputs": [],
   "source": [
    "# add index to original loved tracks file for merging\n",
    "songs_j_loves_df['index_col'] = songs_j_loves_df.index"
   ]
  },
  {
   "cell_type": "code",
   "execution_count": 70,
   "metadata": {},
   "outputs": [],
   "source": [
    "# merge loved songs and attributes\n",
    "loved_tracks_df = pd.merge(songs_j_loves_df, loved_tracks_attributes, on = ['index_col'])"
   ]
  },
  {
   "cell_type": "code",
   "execution_count": 71,
   "metadata": {},
   "outputs": [
    {
     "data": {
      "text/plain": [
       "Index(['name_x', 'id', 'popularity', 'duration', 'danceability', 'energy',\n",
       "       'key', 'loudness', 'mode', 'speechiness', 'acousticness',\n",
       "       'instrumentalness', 'liveness', 'valence', 'tempo', 'index_col',\n",
       "       'name_y', 'album', 'artist', 'release_date'],\n",
       "      dtype='object')"
      ]
     },
     "execution_count": 71,
     "metadata": {},
     "output_type": "execute_result"
    }
   ],
   "source": [
    "#top_tracks_df = top_tracks_df.drop(columns=['name_y'])\n",
    "loved_tracks_df.columns"
   ]
  },
  {
   "cell_type": "code",
   "execution_count": 73,
   "metadata": {},
   "outputs": [
    {
     "name": "stdout",
     "output_type": "stream",
     "text": [
      "<class 'pandas.core.frame.DataFrame'>\n",
      "Int64Index: 4565 entries, 0 to 4564\n",
      "Data columns (total 20 columns):\n",
      " #   Column            Non-Null Count  Dtype  \n",
      "---  ------            --------------  -----  \n",
      " 0   name_x            4565 non-null   object \n",
      " 1   id                4565 non-null   object \n",
      " 2   popularity        4565 non-null   int64  \n",
      " 3   duration          4565 non-null   int64  \n",
      " 4   danceability      4565 non-null   float64\n",
      " 5   energy            4565 non-null   float64\n",
      " 6   key               4565 non-null   int64  \n",
      " 7   loudness          4565 non-null   float64\n",
      " 8   mode              4565 non-null   int64  \n",
      " 9   speechiness       4565 non-null   float64\n",
      " 10  acousticness      4565 non-null   float64\n",
      " 11  instrumentalness  4565 non-null   float64\n",
      " 12  liveness          4565 non-null   float64\n",
      " 13  valence           4565 non-null   float64\n",
      " 14  tempo             4565 non-null   float64\n",
      " 15  index_col         4565 non-null   int64  \n",
      " 16  name_y            4565 non-null   object \n",
      " 17  album             4565 non-null   object \n",
      " 18  artist            4565 non-null   object \n",
      " 19  release_date      4565 non-null   object \n",
      "dtypes: float64(9), int64(5), object(6)\n",
      "memory usage: 748.9+ KB\n"
     ]
    }
   ],
   "source": [
    "loved_tracks_df.info()"
   ]
  },
  {
   "cell_type": "code",
   "execution_count": 75,
   "metadata": {},
   "outputs": [
    {
     "data": {
      "text/plain": [
       "Index(['name_x', 'id', 'popularity', 'duration', 'danceability', 'energy',\n",
       "       'key', 'loudness', 'mode', 'speechiness', 'acousticness',\n",
       "       'instrumentalness', 'liveness', 'valence', 'tempo', 'album', 'artist',\n",
       "       'release_date'],\n",
       "      dtype='object')"
      ]
     },
     "execution_count": 75,
     "metadata": {},
     "output_type": "execute_result"
    }
   ],
   "source": [
    "loved_tracks_df = loved_tracks_df.drop(columns=['name_y', 'index_col'])\n",
    "loved_tracks_df.columns"
   ]
  },
  {
   "cell_type": "code",
   "execution_count": 76,
   "metadata": {},
   "outputs": [],
   "source": [
    "loved_tracks_df.rename(columns= {\"name_x\" : \"name\"}, inplace= True)"
   ]
  },
  {
   "cell_type": "code",
   "execution_count": 77,
   "metadata": {},
   "outputs": [
    {
     "name": "stdout",
     "output_type": "stream",
     "text": [
      "<class 'pandas.core.frame.DataFrame'>\n",
      "Int64Index: 4565 entries, 0 to 4564\n",
      "Data columns (total 18 columns):\n",
      " #   Column            Non-Null Count  Dtype  \n",
      "---  ------            --------------  -----  \n",
      " 0   name              4565 non-null   object \n",
      " 1   id                4565 non-null   object \n",
      " 2   popularity        4565 non-null   int64  \n",
      " 3   duration          4565 non-null   int64  \n",
      " 4   danceability      4565 non-null   float64\n",
      " 5   energy            4565 non-null   float64\n",
      " 6   key               4565 non-null   int64  \n",
      " 7   loudness          4565 non-null   float64\n",
      " 8   mode              4565 non-null   int64  \n",
      " 9   speechiness       4565 non-null   float64\n",
      " 10  acousticness      4565 non-null   float64\n",
      " 11  instrumentalness  4565 non-null   float64\n",
      " 12  liveness          4565 non-null   float64\n",
      " 13  valence           4565 non-null   float64\n",
      " 14  tempo             4565 non-null   float64\n",
      " 15  album             4565 non-null   object \n",
      " 16  artist            4565 non-null   object \n",
      " 17  release_date      4565 non-null   object \n",
      "dtypes: float64(9), int64(4), object(5)\n",
      "memory usage: 677.6+ KB\n"
     ]
    }
   ],
   "source": [
    "loved_tracks_df.info()"
   ]
  },
  {
   "cell_type": "code",
   "execution_count": 78,
   "metadata": {},
   "outputs": [
    {
     "data": {
      "text/plain": [
       "<bound method NDFrame.describe of 0       2022\n",
       "1       2022\n",
       "2       2023\n",
       "3       2022\n",
       "4       2023\n",
       "        ... \n",
       "4560    2015\n",
       "4561    2015\n",
       "4562    2015\n",
       "4563    2015\n",
       "4564    2015\n",
       "Name: release_year, Length: 4565, dtype: int64>"
      ]
     },
     "execution_count": 78,
     "metadata": {},
     "output_type": "execute_result"
    }
   ],
   "source": [
    "# Create a \"release year\" column based on release date\n",
    "loved_tracks_df['release_year'] = loved_tracks_df['release_date'].str[0:4]\n",
    "loved_tracks_df['release_year'] = pd.to_numeric(loved_tracks_df['release_year'])\n",
    "loved_tracks_df['release_year'].describe\n",
    "# print(saved_tracks_df)"
   ]
  },
  {
   "cell_type": "code",
   "execution_count": 79,
   "metadata": {},
   "outputs": [
    {
     "data": {
      "text/plain": [
       "2018    909\n",
       "2017    773\n",
       "2016    771\n",
       "2019    450\n",
       "2015    341\n",
       "2020    233\n",
       "2022    210\n",
       "2021    174\n",
       "2006     87\n",
       "2012     63\n",
       "2014     59\n",
       "2013     50\n",
       "2000     41\n",
       "2023     38\n",
       "1967     35\n",
       "2009     33\n",
       "1990     33\n",
       "2011     30\n",
       "2004     30\n",
       "2010     29\n",
       "1997     27\n",
       "1998     25\n",
       "1994     21\n",
       "1993     16\n",
       "2008     13\n",
       "2007     10\n",
       "2002      8\n",
       "2005      7\n",
       "2001      7\n",
       "2003      7\n",
       "1999      6\n",
       "1996      5\n",
       "1995      4\n",
       "0         4\n",
       "1989      2\n",
       "1970      2\n",
       "1992      2\n",
       "1957      1\n",
       "1981      1\n",
       "1985      1\n",
       "1982      1\n",
       "1979      1\n",
       "1987      1\n",
       "1988      1\n",
       "1976      1\n",
       "1972      1\n",
       "1991      1\n",
       "Name: release_year, dtype: int64"
      ]
     },
     "execution_count": 79,
     "metadata": {},
     "output_type": "execute_result"
    }
   ],
   "source": [
    "loved_tracks_df.release_year.value_counts()"
   ]
  },
  {
   "cell_type": "code",
   "execution_count": 80,
   "metadata": {},
   "outputs": [
    {
     "name": "stdout",
     "output_type": "stream",
     "text": [
      "<class 'pandas.core.frame.DataFrame'>\n",
      "Int64Index: 4565 entries, 0 to 4564\n",
      "Data columns (total 19 columns):\n",
      " #   Column            Non-Null Count  Dtype  \n",
      "---  ------            --------------  -----  \n",
      " 0   name              4565 non-null   object \n",
      " 1   id                4565 non-null   object \n",
      " 2   popularity        4565 non-null   int64  \n",
      " 3   duration          4565 non-null   int64  \n",
      " 4   danceability      4565 non-null   float64\n",
      " 5   energy            4565 non-null   float64\n",
      " 6   key               4565 non-null   int64  \n",
      " 7   loudness          4565 non-null   float64\n",
      " 8   mode              4565 non-null   int64  \n",
      " 9   speechiness       4565 non-null   float64\n",
      " 10  acousticness      4565 non-null   float64\n",
      " 11  instrumentalness  4565 non-null   float64\n",
      " 12  liveness          4565 non-null   float64\n",
      " 13  valence           4565 non-null   float64\n",
      " 14  tempo             4565 non-null   float64\n",
      " 15  album             4565 non-null   object \n",
      " 16  artist            4565 non-null   object \n",
      " 17  release_date      4565 non-null   object \n",
      " 18  release_year      4565 non-null   int64  \n",
      "dtypes: float64(9), int64(5), object(5)\n",
      "memory usage: 713.3+ KB\n"
     ]
    }
   ],
   "source": [
    "loved_tracks_df.info()"
   ]
  },
  {
   "cell_type": "code",
   "execution_count": 81,
   "metadata": {},
   "outputs": [],
   "source": [
    "# Save as csv, will use this file for EDA and cluster analysis\n",
    "loved_tracks_df.to_csv(\"songs_j_loves_final.csv\", sep = ',', index= False)"
   ]
  },
  {
   "cell_type": "code",
   "execution_count": null,
   "metadata": {},
   "outputs": [],
   "source": []
  }
 ],
 "metadata": {
  "kernelspec": {
   "display_name": "Python 3",
   "language": "python",
   "name": "python3"
  },
  "language_info": {
   "codemirror_mode": {
    "name": "ipython",
    "version": 3
   },
   "file_extension": ".py",
   "mimetype": "text/x-python",
   "name": "python",
   "nbconvert_exporter": "python",
   "pygments_lexer": "ipython3",
   "version": "3.8.5"
  }
 },
 "nbformat": 4,
 "nbformat_minor": 4
}
