{
 "cells": [
  {
   "cell_type": "markdown",
   "metadata": {},
   "source": [
    "## Extract saved songs from Spotify using the Spotipy API"
   ]
  },
  {
   "cell_type": "code",
   "execution_count": 1,
   "metadata": {},
   "outputs": [
    {
     "name": "stderr",
     "output_type": "stream",
     "text": [
      "Couldn't read cache at: .cache\n"
     ]
    },
    {
     "name": "stdout",
     "output_type": "stream",
     "text": [
      "\n"
     ]
    },
    {
     "ename": "KeyboardInterrupt",
     "evalue": "Interrupted by user",
     "output_type": "error",
     "traceback": [
      "\u001b[0;31m---------------------------------------------------------------------------\u001b[0m",
      "\u001b[0;31mKeyboardInterrupt\u001b[0m                         Traceback (most recent call last)",
      "\u001b[0;32m<ipython-input-1-2633a848b586>\u001b[0m in \u001b[0;36m<module>\u001b[0;34m\u001b[0m\n\u001b[1;32m     28\u001b[0m \u001b[0;34m\u001b[0m\u001b[0m\n\u001b[1;32m     29\u001b[0m \u001b[0;32mwhile\u001b[0m\u001b[0;34m(\u001b[0m\u001b[0;32mTrue\u001b[0m\u001b[0;34m)\u001b[0m\u001b[0;34m:\u001b[0m\u001b[0;34m\u001b[0m\u001b[0;34m\u001b[0m\u001b[0m\n\u001b[0;32m---> 30\u001b[0;31m     \u001b[0mpaged_tracks\u001b[0m \u001b[0;34m=\u001b[0m \u001b[0msp\u001b[0m\u001b[0;34m.\u001b[0m\u001b[0mcurrent_user_saved_tracks\u001b[0m\u001b[0;34m(\u001b[0m\u001b[0moffset\u001b[0m\u001b[0;34m=\u001b[0m\u001b[0mOFFSET\u001b[0m\u001b[0;34m,\u001b[0m \u001b[0mlimit\u001b[0m\u001b[0;34m=\u001b[0m\u001b[0mSAVED_TRACKS_LIMIT\u001b[0m\u001b[0;34m)\u001b[0m\u001b[0;34m\u001b[0m\u001b[0;34m\u001b[0m\u001b[0m\n\u001b[0m\u001b[1;32m     31\u001b[0m     liked_tracks.extend([{'name':el['track']['name'], \n\u001b[1;32m     32\u001b[0m                           \u001b[0;34m'id'\u001b[0m\u001b[0;34m:\u001b[0m\u001b[0mel\u001b[0m\u001b[0;34m[\u001b[0m\u001b[0;34m'track'\u001b[0m\u001b[0;34m]\u001b[0m\u001b[0;34m[\u001b[0m\u001b[0;34m'id'\u001b[0m\u001b[0;34m]\u001b[0m\u001b[0;34m,\u001b[0m\u001b[0;34m\u001b[0m\u001b[0;34m\u001b[0m\u001b[0m\n",
      "\u001b[0;32m~/opt/anaconda3/lib/python3.8/site-packages/spotipy/client.py\u001b[0m in \u001b[0;36mcurrent_user_saved_tracks\u001b[0;34m(self, limit, offset)\u001b[0m\n\u001b[1;32m   1178\u001b[0m \u001b[0;34m\u001b[0m\u001b[0m\n\u001b[1;32m   1179\u001b[0m         \"\"\"\n\u001b[0;32m-> 1180\u001b[0;31m         \u001b[0;32mreturn\u001b[0m \u001b[0mself\u001b[0m\u001b[0;34m.\u001b[0m\u001b[0m_get\u001b[0m\u001b[0;34m(\u001b[0m\u001b[0;34m\"me/tracks\"\u001b[0m\u001b[0;34m,\u001b[0m \u001b[0mlimit\u001b[0m\u001b[0;34m=\u001b[0m\u001b[0mlimit\u001b[0m\u001b[0;34m,\u001b[0m \u001b[0moffset\u001b[0m\u001b[0;34m=\u001b[0m\u001b[0moffset\u001b[0m\u001b[0;34m)\u001b[0m\u001b[0;34m\u001b[0m\u001b[0;34m\u001b[0m\u001b[0m\n\u001b[0m\u001b[1;32m   1181\u001b[0m \u001b[0;34m\u001b[0m\u001b[0m\n\u001b[1;32m   1182\u001b[0m     \u001b[0;32mdef\u001b[0m \u001b[0mcurrent_user_followed_artists\u001b[0m\u001b[0;34m(\u001b[0m\u001b[0mself\u001b[0m\u001b[0;34m,\u001b[0m \u001b[0mlimit\u001b[0m\u001b[0;34m=\u001b[0m\u001b[0;36m20\u001b[0m\u001b[0;34m,\u001b[0m \u001b[0mafter\u001b[0m\u001b[0;34m=\u001b[0m\u001b[0;32mNone\u001b[0m\u001b[0;34m)\u001b[0m\u001b[0;34m:\u001b[0m\u001b[0;34m\u001b[0m\u001b[0;34m\u001b[0m\u001b[0m\n",
      "\u001b[0;32m~/opt/anaconda3/lib/python3.8/site-packages/spotipy/client.py\u001b[0m in \u001b[0;36m_get\u001b[0;34m(self, url, args, payload, **kwargs)\u001b[0m\n\u001b[1;32m    289\u001b[0m             \u001b[0mkwargs\u001b[0m\u001b[0;34m.\u001b[0m\u001b[0mupdate\u001b[0m\u001b[0;34m(\u001b[0m\u001b[0margs\u001b[0m\u001b[0;34m)\u001b[0m\u001b[0;34m\u001b[0m\u001b[0;34m\u001b[0m\u001b[0m\n\u001b[1;32m    290\u001b[0m \u001b[0;34m\u001b[0m\u001b[0m\n\u001b[0;32m--> 291\u001b[0;31m         \u001b[0;32mreturn\u001b[0m \u001b[0mself\u001b[0m\u001b[0;34m.\u001b[0m\u001b[0m_internal_call\u001b[0m\u001b[0;34m(\u001b[0m\u001b[0;34m\"GET\"\u001b[0m\u001b[0;34m,\u001b[0m \u001b[0murl\u001b[0m\u001b[0;34m,\u001b[0m \u001b[0mpayload\u001b[0m\u001b[0;34m,\u001b[0m \u001b[0mkwargs\u001b[0m\u001b[0;34m)\u001b[0m\u001b[0;34m\u001b[0m\u001b[0;34m\u001b[0m\u001b[0m\n\u001b[0m\u001b[1;32m    292\u001b[0m \u001b[0;34m\u001b[0m\u001b[0m\n\u001b[1;32m    293\u001b[0m     \u001b[0;32mdef\u001b[0m \u001b[0m_post\u001b[0m\u001b[0;34m(\u001b[0m\u001b[0mself\u001b[0m\u001b[0;34m,\u001b[0m \u001b[0murl\u001b[0m\u001b[0;34m,\u001b[0m \u001b[0margs\u001b[0m\u001b[0;34m=\u001b[0m\u001b[0;32mNone\u001b[0m\u001b[0;34m,\u001b[0m \u001b[0mpayload\u001b[0m\u001b[0;34m=\u001b[0m\u001b[0;32mNone\u001b[0m\u001b[0;34m,\u001b[0m \u001b[0;34m**\u001b[0m\u001b[0mkwargs\u001b[0m\u001b[0;34m)\u001b[0m\u001b[0;34m:\u001b[0m\u001b[0;34m\u001b[0m\u001b[0;34m\u001b[0m\u001b[0m\n",
      "\u001b[0;32m~/opt/anaconda3/lib/python3.8/site-packages/spotipy/client.py\u001b[0m in \u001b[0;36m_internal_call\u001b[0;34m(self, method, url, payload, params)\u001b[0m\n\u001b[1;32m    219\u001b[0m         \u001b[0;32mif\u001b[0m \u001b[0;32mnot\u001b[0m \u001b[0murl\u001b[0m\u001b[0;34m.\u001b[0m\u001b[0mstartswith\u001b[0m\u001b[0;34m(\u001b[0m\u001b[0;34m\"http\"\u001b[0m\u001b[0;34m)\u001b[0m\u001b[0;34m:\u001b[0m\u001b[0;34m\u001b[0m\u001b[0;34m\u001b[0m\u001b[0m\n\u001b[1;32m    220\u001b[0m             \u001b[0murl\u001b[0m \u001b[0;34m=\u001b[0m \u001b[0mself\u001b[0m\u001b[0;34m.\u001b[0m\u001b[0mprefix\u001b[0m \u001b[0;34m+\u001b[0m \u001b[0murl\u001b[0m\u001b[0;34m\u001b[0m\u001b[0;34m\u001b[0m\u001b[0m\n\u001b[0;32m--> 221\u001b[0;31m         \u001b[0mheaders\u001b[0m \u001b[0;34m=\u001b[0m \u001b[0mself\u001b[0m\u001b[0;34m.\u001b[0m\u001b[0m_auth_headers\u001b[0m\u001b[0;34m(\u001b[0m\u001b[0;34m)\u001b[0m\u001b[0;34m\u001b[0m\u001b[0;34m\u001b[0m\u001b[0m\n\u001b[0m\u001b[1;32m    222\u001b[0m \u001b[0;34m\u001b[0m\u001b[0m\n\u001b[1;32m    223\u001b[0m         \u001b[0;32mif\u001b[0m \u001b[0;34m\"content_type\"\u001b[0m \u001b[0;32min\u001b[0m \u001b[0margs\u001b[0m\u001b[0;34m[\u001b[0m\u001b[0;34m\"params\"\u001b[0m\u001b[0;34m]\u001b[0m\u001b[0;34m:\u001b[0m\u001b[0;34m\u001b[0m\u001b[0;34m\u001b[0m\u001b[0m\n",
      "\u001b[0;32m~/opt/anaconda3/lib/python3.8/site-packages/spotipy/client.py\u001b[0m in \u001b[0;36m_auth_headers\u001b[0;34m(self)\u001b[0m\n\u001b[1;32m    210\u001b[0m             \u001b[0;32mreturn\u001b[0m \u001b[0;34m{\u001b[0m\u001b[0;34m}\u001b[0m\u001b[0;34m\u001b[0m\u001b[0;34m\u001b[0m\u001b[0m\n\u001b[1;32m    211\u001b[0m         \u001b[0;32mtry\u001b[0m\u001b[0;34m:\u001b[0m\u001b[0;34m\u001b[0m\u001b[0;34m\u001b[0m\u001b[0m\n\u001b[0;32m--> 212\u001b[0;31m             \u001b[0mtoken\u001b[0m \u001b[0;34m=\u001b[0m \u001b[0mself\u001b[0m\u001b[0;34m.\u001b[0m\u001b[0mauth_manager\u001b[0m\u001b[0;34m.\u001b[0m\u001b[0mget_access_token\u001b[0m\u001b[0;34m(\u001b[0m\u001b[0mas_dict\u001b[0m\u001b[0;34m=\u001b[0m\u001b[0;32mFalse\u001b[0m\u001b[0;34m)\u001b[0m\u001b[0;34m\u001b[0m\u001b[0;34m\u001b[0m\u001b[0m\n\u001b[0m\u001b[1;32m    213\u001b[0m         \u001b[0;32mexcept\u001b[0m \u001b[0mTypeError\u001b[0m\u001b[0;34m:\u001b[0m\u001b[0;34m\u001b[0m\u001b[0;34m\u001b[0m\u001b[0m\n\u001b[1;32m    214\u001b[0m             \u001b[0mtoken\u001b[0m \u001b[0;34m=\u001b[0m \u001b[0mself\u001b[0m\u001b[0;34m.\u001b[0m\u001b[0mauth_manager\u001b[0m\u001b[0;34m.\u001b[0m\u001b[0mget_access_token\u001b[0m\u001b[0;34m(\u001b[0m\u001b[0;34m)\u001b[0m\u001b[0;34m\u001b[0m\u001b[0;34m\u001b[0m\u001b[0m\n",
      "\u001b[0;32m~/opt/anaconda3/lib/python3.8/site-packages/spotipy/oauth2.py\u001b[0m in \u001b[0;36mget_access_token\u001b[0;34m(self, code, as_dict, check_cache)\u001b[0m\n\u001b[1;32m    482\u001b[0m         payload = {\n\u001b[1;32m    483\u001b[0m             \u001b[0;34m\"redirect_uri\"\u001b[0m\u001b[0;34m:\u001b[0m \u001b[0mself\u001b[0m\u001b[0;34m.\u001b[0m\u001b[0mredirect_uri\u001b[0m\u001b[0;34m,\u001b[0m\u001b[0;34m\u001b[0m\u001b[0;34m\u001b[0m\u001b[0m\n\u001b[0;32m--> 484\u001b[0;31m             \u001b[0;34m\"code\"\u001b[0m\u001b[0;34m:\u001b[0m \u001b[0mcode\u001b[0m \u001b[0;32mor\u001b[0m \u001b[0mself\u001b[0m\u001b[0;34m.\u001b[0m\u001b[0mget_auth_response\u001b[0m\u001b[0;34m(\u001b[0m\u001b[0;34m)\u001b[0m\u001b[0;34m,\u001b[0m\u001b[0;34m\u001b[0m\u001b[0;34m\u001b[0m\u001b[0m\n\u001b[0m\u001b[1;32m    485\u001b[0m             \u001b[0;34m\"grant_type\"\u001b[0m\u001b[0;34m:\u001b[0m \u001b[0;34m\"authorization_code\"\u001b[0m\u001b[0;34m,\u001b[0m\u001b[0;34m\u001b[0m\u001b[0;34m\u001b[0m\u001b[0m\n\u001b[1;32m    486\u001b[0m         }\n",
      "\u001b[0;32m~/opt/anaconda3/lib/python3.8/site-packages/spotipy/oauth2.py\u001b[0m in \u001b[0;36mget_auth_response\u001b[0;34m(self, open_browser)\u001b[0m\n\u001b[1;32m    446\u001b[0m                                redirect_host, redirect_host)\n\u001b[1;32m    447\u001b[0m \u001b[0;34m\u001b[0m\u001b[0m\n\u001b[0;32m--> 448\u001b[0;31m         \u001b[0;32mreturn\u001b[0m \u001b[0mself\u001b[0m\u001b[0;34m.\u001b[0m\u001b[0m_get_auth_response_interactive\u001b[0m\u001b[0;34m(\u001b[0m\u001b[0mopen_browser\u001b[0m\u001b[0;34m=\u001b[0m\u001b[0mopen_browser\u001b[0m\u001b[0;34m)\u001b[0m\u001b[0;34m\u001b[0m\u001b[0;34m\u001b[0m\u001b[0m\n\u001b[0m\u001b[1;32m    449\u001b[0m \u001b[0;34m\u001b[0m\u001b[0m\n\u001b[1;32m    450\u001b[0m     \u001b[0;32mdef\u001b[0m \u001b[0mget_authorization_code\u001b[0m\u001b[0;34m(\u001b[0m\u001b[0mself\u001b[0m\u001b[0;34m,\u001b[0m \u001b[0mresponse\u001b[0m\u001b[0;34m=\u001b[0m\u001b[0;32mNone\u001b[0m\u001b[0;34m)\u001b[0m\u001b[0;34m:\u001b[0m\u001b[0;34m\u001b[0m\u001b[0;34m\u001b[0m\u001b[0m\n",
      "\u001b[0;32m~/opt/anaconda3/lib/python3.8/site-packages/spotipy/oauth2.py\u001b[0m in \u001b[0;36m_get_auth_response_interactive\u001b[0;34m(self, open_browser)\u001b[0m\n\u001b[1;32m    396\u001b[0m                 \u001b[0;34m\"Enter the URL you were redirected to: \"\u001b[0m\u001b[0;34m.\u001b[0m\u001b[0mformat\u001b[0m\u001b[0;34m(\u001b[0m\u001b[0murl\u001b[0m\u001b[0;34m)\u001b[0m\u001b[0;34m\u001b[0m\u001b[0;34m\u001b[0m\u001b[0m\n\u001b[1;32m    397\u001b[0m             )\n\u001b[0;32m--> 398\u001b[0;31m         \u001b[0mresponse\u001b[0m \u001b[0;34m=\u001b[0m \u001b[0mself\u001b[0m\u001b[0;34m.\u001b[0m\u001b[0m_get_user_input\u001b[0m\u001b[0;34m(\u001b[0m\u001b[0mprompt\u001b[0m\u001b[0;34m)\u001b[0m\u001b[0;34m\u001b[0m\u001b[0;34m\u001b[0m\u001b[0m\n\u001b[0m\u001b[1;32m    399\u001b[0m         \u001b[0mstate\u001b[0m\u001b[0;34m,\u001b[0m \u001b[0mcode\u001b[0m \u001b[0;34m=\u001b[0m \u001b[0mSpotifyOAuth\u001b[0m\u001b[0;34m.\u001b[0m\u001b[0mparse_auth_response_url\u001b[0m\u001b[0;34m(\u001b[0m\u001b[0mresponse\u001b[0m\u001b[0;34m)\u001b[0m\u001b[0;34m\u001b[0m\u001b[0;34m\u001b[0m\u001b[0m\n\u001b[1;32m    400\u001b[0m         \u001b[0;32mif\u001b[0m \u001b[0mself\u001b[0m\u001b[0;34m.\u001b[0m\u001b[0mstate\u001b[0m \u001b[0;32mis\u001b[0m \u001b[0;32mnot\u001b[0m \u001b[0;32mNone\u001b[0m \u001b[0;32mand\u001b[0m \u001b[0mself\u001b[0m\u001b[0;34m.\u001b[0m\u001b[0mstate\u001b[0m \u001b[0;34m!=\u001b[0m \u001b[0mstate\u001b[0m\u001b[0;34m:\u001b[0m\u001b[0;34m\u001b[0m\u001b[0;34m\u001b[0m\u001b[0m\n",
      "\u001b[0;32m~/opt/anaconda3/lib/python3.8/site-packages/spotipy/oauth2.py\u001b[0m in \u001b[0;36m_get_user_input\u001b[0;34m(prompt)\u001b[0m\n\u001b[1;32m    130\u001b[0m             \u001b[0;32mreturn\u001b[0m \u001b[0mraw_input\u001b[0m\u001b[0;34m(\u001b[0m\u001b[0mprompt\u001b[0m\u001b[0;34m)\u001b[0m\u001b[0;34m\u001b[0m\u001b[0;34m\u001b[0m\u001b[0m\n\u001b[1;32m    131\u001b[0m         \u001b[0;32mexcept\u001b[0m \u001b[0mNameError\u001b[0m\u001b[0;34m:\u001b[0m\u001b[0;34m\u001b[0m\u001b[0;34m\u001b[0m\u001b[0m\n\u001b[0;32m--> 132\u001b[0;31m             \u001b[0;32mreturn\u001b[0m \u001b[0minput\u001b[0m\u001b[0;34m(\u001b[0m\u001b[0mprompt\u001b[0m\u001b[0;34m)\u001b[0m\u001b[0;34m\u001b[0m\u001b[0;34m\u001b[0m\u001b[0m\n\u001b[0m\u001b[1;32m    133\u001b[0m \u001b[0;34m\u001b[0m\u001b[0m\n\u001b[1;32m    134\u001b[0m     \u001b[0;32mdef\u001b[0m \u001b[0m__del__\u001b[0m\u001b[0;34m(\u001b[0m\u001b[0mself\u001b[0m\u001b[0;34m)\u001b[0m\u001b[0;34m:\u001b[0m\u001b[0;34m\u001b[0m\u001b[0;34m\u001b[0m\u001b[0m\n",
      "\u001b[0;32m~/opt/anaconda3/lib/python3.8/site-packages/ipykernel/kernelbase.py\u001b[0m in \u001b[0;36mraw_input\u001b[0;34m(self, prompt)\u001b[0m\n\u001b[1;32m    858\u001b[0m                 \u001b[0;34m\"raw_input was called, but this frontend does not support input requests.\"\u001b[0m\u001b[0;34m\u001b[0m\u001b[0;34m\u001b[0m\u001b[0m\n\u001b[1;32m    859\u001b[0m             )\n\u001b[0;32m--> 860\u001b[0;31m         return self._input_request(str(prompt),\n\u001b[0m\u001b[1;32m    861\u001b[0m             \u001b[0mself\u001b[0m\u001b[0;34m.\u001b[0m\u001b[0m_parent_ident\u001b[0m\u001b[0;34m,\u001b[0m\u001b[0;34m\u001b[0m\u001b[0;34m\u001b[0m\u001b[0m\n\u001b[1;32m    862\u001b[0m             \u001b[0mself\u001b[0m\u001b[0;34m.\u001b[0m\u001b[0m_parent_header\u001b[0m\u001b[0;34m,\u001b[0m\u001b[0;34m\u001b[0m\u001b[0;34m\u001b[0m\u001b[0m\n",
      "\u001b[0;32m~/opt/anaconda3/lib/python3.8/site-packages/ipykernel/kernelbase.py\u001b[0m in \u001b[0;36m_input_request\u001b[0;34m(self, prompt, ident, parent, password)\u001b[0m\n\u001b[1;32m    902\u001b[0m             \u001b[0;32mexcept\u001b[0m \u001b[0mKeyboardInterrupt\u001b[0m\u001b[0;34m:\u001b[0m\u001b[0;34m\u001b[0m\u001b[0;34m\u001b[0m\u001b[0m\n\u001b[1;32m    903\u001b[0m                 \u001b[0;31m# re-raise KeyboardInterrupt, to truncate traceback\u001b[0m\u001b[0;34m\u001b[0m\u001b[0;34m\u001b[0m\u001b[0;34m\u001b[0m\u001b[0m\n\u001b[0;32m--> 904\u001b[0;31m                 \u001b[0;32mraise\u001b[0m \u001b[0mKeyboardInterrupt\u001b[0m\u001b[0;34m(\u001b[0m\u001b[0;34m\"Interrupted by user\"\u001b[0m\u001b[0;34m)\u001b[0m \u001b[0;32mfrom\u001b[0m \u001b[0;32mNone\u001b[0m\u001b[0;34m\u001b[0m\u001b[0;34m\u001b[0m\u001b[0m\n\u001b[0m\u001b[1;32m    905\u001b[0m             \u001b[0;32mexcept\u001b[0m \u001b[0mException\u001b[0m \u001b[0;32mas\u001b[0m \u001b[0me\u001b[0m\u001b[0;34m:\u001b[0m\u001b[0;34m\u001b[0m\u001b[0;34m\u001b[0m\u001b[0m\n\u001b[1;32m    906\u001b[0m                 \u001b[0mself\u001b[0m\u001b[0;34m.\u001b[0m\u001b[0mlog\u001b[0m\u001b[0;34m.\u001b[0m\u001b[0mwarning\u001b[0m\u001b[0;34m(\u001b[0m\u001b[0;34m\"Invalid Message:\"\u001b[0m\u001b[0;34m,\u001b[0m \u001b[0mexc_info\u001b[0m\u001b[0;34m=\u001b[0m\u001b[0;32mTrue\u001b[0m\u001b[0;34m)\u001b[0m\u001b[0;34m\u001b[0m\u001b[0;34m\u001b[0m\u001b[0m\n",
      "\u001b[0;31mKeyboardInterrupt\u001b[0m: Interrupted by user"
     ]
    }
   ],
   "source": [
    "# Instructions: https://www.linkedin.com/pulse/extracting-your-fav-playlist-info-spotifys-api-samantha-jones/\n",
    "\n",
    "import spotipy\n",
    "from spotipy.oauth2 import SpotifyOAuth\n",
    "from pandas import DataFrame\n",
    "# from creds import client_id, client_secret\n",
    "from time import time\n",
    "\n",
    "redirect_uri = 'https://example.com/callback'\n",
    "\n",
    "#replace with Spotify credentials\n",
    "client_id = 'XXXXXX'\n",
    "client_secret = 'XXXXXX'\n",
    "\n",
    "FEATURE_KEYS = ['danceability', 'energy', 'key', 'loudness', 'mode', 'speechiness', \n",
    "                'acousticness', 'instrumentalness', 'liveness', 'valence', 'tempo']\n",
    "OFFSET=0\n",
    "SAVED_TRACKS_LIMIT=50\n",
    "FEATURE_LIMIT = 100\n",
    "\n",
    "sp = spotipy.Spotify(auth_manager=SpotifyOAuth(client_id=client_id,\n",
    "                                               client_secret=client_secret,\n",
    "                                               redirect_uri=redirect_uri,\n",
    "                                               scope=\"user-library-read\"))\n",
    "\n",
    "liked_tracks=list()\n",
    "print('')\n",
    "\n",
    "while(True):\n",
    "    paged_tracks = sp.current_user_saved_tracks(offset=OFFSET, limit=SAVED_TRACKS_LIMIT)\n",
    "    liked_tracks.extend([{'name':el['track']['name'], \n",
    "                          'id':el['track']['id'], \n",
    "                          #'artist_name': el['track']['artist_name'],\n",
    "                          'popularity': el['track']['popularity'],\n",
    "                          'duration': el['track']['duration_ms']} for el in paged_tracks['items']])\n",
    "    print(f'Fetched {len(liked_tracks)} tracks')\n",
    "    OFFSET+=SAVED_TRACKS_LIMIT\n",
    "    if paged_tracks['next'] is None:\n",
    "        break\n",
    "\n",
    "def get_windowed_track_ids(liked_tracks, limit):\n",
    "    for i in range(0, len(liked_tracks), limit): \n",
    "        track_window = liked_tracks[i:i + limit]\n",
    "        yield track_window, [t['id'] for t in track_window]\n",
    "\n",
    "track_feature_list = list()\n",
    "print('')\n",
    "\n",
    "for track_window, track_window_ids in get_windowed_track_ids(liked_tracks, FEATURE_LIMIT):\n",
    "    track_features = sp.audio_features(tracks=track_window_ids)\n",
    "    for index, _track in enumerate(track_window):\n",
    "        _track.update({k:v for k,v in track_features[index].items() if k in FEATURE_KEYS})\n",
    "        track_feature_list.append(_track)\n",
    "    print(f'Fetched features for {len(track_feature_list)} tracks')\n",
    "\n",
    "df=DataFrame.from_dict(track_feature_list)\n",
    "saved_songs = f'liked_tracks_{int(time())}.csv'\n",
    "df.to_csv(saved_songs, index=False)\n",
    "print('')\n",
    "print(f'Saved features to {saved_songs}')"
   ]
  },
  {
   "cell_type": "code",
   "execution_count": 3,
   "metadata": {},
   "outputs": [],
   "source": [
    "import pandas as pd"
   ]
  },
  {
   "cell_type": "code",
   "execution_count": 9,
   "metadata": {},
   "outputs": [],
   "source": [
    "#Load saved tracks into pandas dataframe\n",
    "tracks = pd.read_csv(\"./liked_tracks_1650725844.csv\")"
   ]
  },
  {
   "cell_type": "code",
   "execution_count": 10,
   "metadata": {},
   "outputs": [
    {
     "name": "stdout",
     "output_type": "stream",
     "text": [
      "4077\n"
     ]
    }
   ],
   "source": [
    "# Pull track ids, which will be used to pull additional song attributes from spotipy\n",
    "track_ids = tracks[\"id\"]\n",
    "print(len(track_ids))\n",
    "track_ids = list(track_ids)"
   ]
  },
  {
   "cell_type": "code",
   "execution_count": 16,
   "metadata": {},
   "outputs": [],
   "source": [
    "# Define a formula to pull additional track attributes — track name, album, artist, and release date\n",
    "def getTrackFeatures(id):\n",
    "  meta = sp.track(id)\n",
    "\n",
    "  # meta\n",
    "  name = meta['name']\n",
    "  album = meta['album']['name']\n",
    "  artist = meta['album']['artists'][0]['name']\n",
    "  release_date = meta['album']['release_date']\n",
    "\n",
    "\n",
    "  track = [name, album, artist, release_date]\n",
    "  return track"
   ]
  },
  {
   "cell_type": "code",
   "execution_count": 19,
   "metadata": {},
   "outputs": [],
   "source": [
    "import time"
   ]
  },
  {
   "cell_type": "code",
   "execution_count": 20,
   "metadata": {},
   "outputs": [],
   "source": [
    "# pull track info and save into a dataframe\n",
    "\n",
    "tracks = []\n",
    "for i in range(len(track_ids)):\n",
    "  time.sleep(.5)\n",
    "  track = getTrackFeatures(track_ids[i])\n",
    "  tracks.append(track)\n",
    "\n",
    "# create dataset\n",
    "df = pd.DataFrame(tracks, columns = ['name', 'album', 'artist', 'release_date'])\n",
    "df.to_csv(\"spotify.csv\", sep = ',')"
   ]
  },
  {
   "cell_type": "code",
   "execution_count": 35,
   "metadata": {},
   "outputs": [],
   "source": [
    "df['index_col'] = df.index # add index column; will be used when merging track info with the saved tracks"
   ]
  },
  {
   "cell_type": "code",
   "execution_count": 36,
   "metadata": {},
   "outputs": [
    {
     "data": {
      "text/html": [
       "<div>\n",
       "<style scoped>\n",
       "    .dataframe tbody tr th:only-of-type {\n",
       "        vertical-align: middle;\n",
       "    }\n",
       "\n",
       "    .dataframe tbody tr th {\n",
       "        vertical-align: top;\n",
       "    }\n",
       "\n",
       "    .dataframe thead th {\n",
       "        text-align: right;\n",
       "    }\n",
       "</style>\n",
       "<table border=\"1\" class=\"dataframe\">\n",
       "  <thead>\n",
       "    <tr style=\"text-align: right;\">\n",
       "      <th></th>\n",
       "      <th>name</th>\n",
       "      <th>album</th>\n",
       "      <th>artist</th>\n",
       "      <th>release_date</th>\n",
       "      <th>tmp</th>\n",
       "      <th>index_col</th>\n",
       "    </tr>\n",
       "  </thead>\n",
       "  <tbody>\n",
       "    <tr>\n",
       "      <th>0</th>\n",
       "      <td>Enemy (with JID) - from the series Arcane Leag...</td>\n",
       "      <td>Mercury - Act 1</td>\n",
       "      <td>Imagine Dragons</td>\n",
       "      <td>2021-09-03</td>\n",
       "      <td>1</td>\n",
       "      <td>0</td>\n",
       "    </tr>\n",
       "    <tr>\n",
       "      <th>1</th>\n",
       "      <td>Millions</td>\n",
       "      <td>Rap?</td>\n",
       "      <td>Tierra Whack</td>\n",
       "      <td>2021-12-02</td>\n",
       "      <td>1</td>\n",
       "      <td>1</td>\n",
       "    </tr>\n",
       "    <tr>\n",
       "      <th>2</th>\n",
       "      <td>Peloton</td>\n",
       "      <td>USEE4YOURSELF</td>\n",
       "      <td>IDK</td>\n",
       "      <td>2021-06-04</td>\n",
       "      <td>1</td>\n",
       "      <td>2</td>\n",
       "    </tr>\n",
       "    <tr>\n",
       "      <th>3</th>\n",
       "      <td>drug dealer (feat. Lil Wayne)</td>\n",
       "      <td>mainstream sellout</td>\n",
       "      <td>Machine Gun Kelly</td>\n",
       "      <td>2022-03-25</td>\n",
       "      <td>1</td>\n",
       "      <td>3</td>\n",
       "    </tr>\n",
       "    <tr>\n",
       "      <th>4</th>\n",
       "      <td>Glow of Love - Satin Jackets Remix</td>\n",
       "      <td>Glow of Love</td>\n",
       "      <td>Paul Harris</td>\n",
       "      <td>2016-05-16</td>\n",
       "      <td>1</td>\n",
       "      <td>4</td>\n",
       "    </tr>\n",
       "  </tbody>\n",
       "</table>\n",
       "</div>"
      ],
      "text/plain": [
       "                                                name               album  \\\n",
       "0  Enemy (with JID) - from the series Arcane Leag...     Mercury - Act 1   \n",
       "1                                           Millions                Rap?   \n",
       "2                                            Peloton       USEE4YOURSELF   \n",
       "3                      drug dealer (feat. Lil Wayne)  mainstream sellout   \n",
       "4                 Glow of Love - Satin Jackets Remix        Glow of Love   \n",
       "\n",
       "              artist release_date  tmp  index_col  \n",
       "0    Imagine Dragons   2021-09-03    1          0  \n",
       "1       Tierra Whack   2021-12-02    1          1  \n",
       "2                IDK   2021-06-04    1          2  \n",
       "3  Machine Gun Kelly   2022-03-25    1          3  \n",
       "4        Paul Harris   2016-05-16    1          4  "
      ]
     },
     "execution_count": 36,
     "metadata": {},
     "output_type": "execute_result"
    }
   ],
   "source": [
    "df.head(5)"
   ]
  },
  {
   "cell_type": "code",
   "execution_count": 52,
   "metadata": {},
   "outputs": [],
   "source": [
    "track_info = df # save track attributes to df\n",
    "\n",
    "# add index to original saved tracks file\n",
    "track_df = pd.read_csv(\"./liked_tracks_1650725844.csv\")\n",
    "track_df['index_col'] = track_df.index\n",
    "\n",
    "# merge dfs for analysis\n",
    "saved_tracks_df = pd.merge(track_df, track_info, on = ['index_col'])"
   ]
  },
  {
   "cell_type": "code",
   "execution_count": 74,
   "metadata": {},
   "outputs": [
    {
     "data": {
      "text/html": [
       "<div>\n",
       "<style scoped>\n",
       "    .dataframe tbody tr th:only-of-type {\n",
       "        vertical-align: middle;\n",
       "    }\n",
       "\n",
       "    .dataframe tbody tr th {\n",
       "        vertical-align: top;\n",
       "    }\n",
       "\n",
       "    .dataframe thead th {\n",
       "        text-align: right;\n",
       "    }\n",
       "</style>\n",
       "<table border=\"1\" class=\"dataframe\">\n",
       "  <thead>\n",
       "    <tr style=\"text-align: right;\">\n",
       "      <th></th>\n",
       "      <th>name_x</th>\n",
       "      <th>id</th>\n",
       "      <th>popularity</th>\n",
       "      <th>duration</th>\n",
       "      <th>danceability</th>\n",
       "      <th>energy</th>\n",
       "      <th>key</th>\n",
       "      <th>loudness</th>\n",
       "      <th>mode</th>\n",
       "      <th>speechiness</th>\n",
       "      <th>...</th>\n",
       "      <th>instrumentalness</th>\n",
       "      <th>liveness</th>\n",
       "      <th>valence</th>\n",
       "      <th>tempo</th>\n",
       "      <th>index_col</th>\n",
       "      <th>name_y</th>\n",
       "      <th>album</th>\n",
       "      <th>artist</th>\n",
       "      <th>release_date</th>\n",
       "      <th>tmp</th>\n",
       "    </tr>\n",
       "  </thead>\n",
       "  <tbody>\n",
       "    <tr>\n",
       "      <th>4072</th>\n",
       "      <td>Company</td>\n",
       "      <td>6ImxYXeLDQPIv4qo7bMhSk</td>\n",
       "      <td>60</td>\n",
       "      <td>252640</td>\n",
       "      <td>0.651</td>\n",
       "      <td>0.550</td>\n",
       "      <td>7</td>\n",
       "      <td>-8.215</td>\n",
       "      <td>1</td>\n",
       "      <td>0.0496</td>\n",
       "      <td>...</td>\n",
       "      <td>0.000000</td>\n",
       "      <td>0.165</td>\n",
       "      <td>0.119</td>\n",
       "      <td>107.567</td>\n",
       "      <td>4072</td>\n",
       "      <td>Company</td>\n",
       "      <td>If You're Reading This It's Too Late</td>\n",
       "      <td>Drake</td>\n",
       "      <td>2015-02-12</td>\n",
       "      <td>1</td>\n",
       "    </tr>\n",
       "    <tr>\n",
       "      <th>4073</th>\n",
       "      <td>You &amp; The 6</td>\n",
       "      <td>2YaDRtIlQiZ5WDDB2YuEOC</td>\n",
       "      <td>55</td>\n",
       "      <td>264906</td>\n",
       "      <td>0.545</td>\n",
       "      <td>0.476</td>\n",
       "      <td>7</td>\n",
       "      <td>-7.444</td>\n",
       "      <td>0</td>\n",
       "      <td>0.2840</td>\n",
       "      <td>...</td>\n",
       "      <td>0.000000</td>\n",
       "      <td>0.130</td>\n",
       "      <td>0.223</td>\n",
       "      <td>154.362</td>\n",
       "      <td>4073</td>\n",
       "      <td>You &amp; The 6</td>\n",
       "      <td>If You're Reading This It's Too Late</td>\n",
       "      <td>Drake</td>\n",
       "      <td>2015-02-12</td>\n",
       "      <td>1</td>\n",
       "    </tr>\n",
       "    <tr>\n",
       "      <th>4074</th>\n",
       "      <td>Jungle</td>\n",
       "      <td>7JXZq0JgG2zTrSOAgY8VMC</td>\n",
       "      <td>72</td>\n",
       "      <td>320400</td>\n",
       "      <td>0.697</td>\n",
       "      <td>0.235</td>\n",
       "      <td>7</td>\n",
       "      <td>-8.651</td>\n",
       "      <td>1</td>\n",
       "      <td>0.0534</td>\n",
       "      <td>...</td>\n",
       "      <td>0.000144</td>\n",
       "      <td>0.107</td>\n",
       "      <td>0.378</td>\n",
       "      <td>99.947</td>\n",
       "      <td>4074</td>\n",
       "      <td>Jungle</td>\n",
       "      <td>If You're Reading This It's Too Late</td>\n",
       "      <td>Drake</td>\n",
       "      <td>2015-02-12</td>\n",
       "      <td>1</td>\n",
       "    </tr>\n",
       "    <tr>\n",
       "      <th>4075</th>\n",
       "      <td>6PM In New York</td>\n",
       "      <td>5mZJwWdxAOR4xUvSGZvvMU</td>\n",
       "      <td>54</td>\n",
       "      <td>283306</td>\n",
       "      <td>0.554</td>\n",
       "      <td>0.850</td>\n",
       "      <td>5</td>\n",
       "      <td>-4.155</td>\n",
       "      <td>1</td>\n",
       "      <td>0.2510</td>\n",
       "      <td>...</td>\n",
       "      <td>0.000000</td>\n",
       "      <td>0.155</td>\n",
       "      <td>0.383</td>\n",
       "      <td>128.429</td>\n",
       "      <td>4075</td>\n",
       "      <td>6PM In New York</td>\n",
       "      <td>If You're Reading This It's Too Late</td>\n",
       "      <td>Drake</td>\n",
       "      <td>2015-02-12</td>\n",
       "      <td>1</td>\n",
       "    </tr>\n",
       "    <tr>\n",
       "      <th>4076</th>\n",
       "      <td>Flex (Ooh, Ooh, Ooh)</td>\n",
       "      <td>2LLFl56eIFGFlnrplUC26f</td>\n",
       "      <td>50</td>\n",
       "      <td>176674</td>\n",
       "      <td>0.728</td>\n",
       "      <td>0.620</td>\n",
       "      <td>2</td>\n",
       "      <td>-7.533</td>\n",
       "      <td>1</td>\n",
       "      <td>0.0434</td>\n",
       "      <td>...</td>\n",
       "      <td>0.000000</td>\n",
       "      <td>0.342</td>\n",
       "      <td>0.885</td>\n",
       "      <td>81.998</td>\n",
       "      <td>4076</td>\n",
       "      <td>Flex (Ooh, Ooh, Ooh)</td>\n",
       "      <td>Summer Sampler</td>\n",
       "      <td>Rich Homie Quan</td>\n",
       "      <td>2015-06-02</td>\n",
       "      <td>1</td>\n",
       "    </tr>\n",
       "  </tbody>\n",
       "</table>\n",
       "<p>5 rows × 21 columns</p>\n",
       "</div>"
      ],
      "text/plain": [
       "                    name_x                      id  popularity  duration  \\\n",
       "4072               Company  6ImxYXeLDQPIv4qo7bMhSk          60    252640   \n",
       "4073           You & The 6  2YaDRtIlQiZ5WDDB2YuEOC          55    264906   \n",
       "4074                Jungle  7JXZq0JgG2zTrSOAgY8VMC          72    320400   \n",
       "4075       6PM In New York  5mZJwWdxAOR4xUvSGZvvMU          54    283306   \n",
       "4076  Flex (Ooh, Ooh, Ooh)  2LLFl56eIFGFlnrplUC26f          50    176674   \n",
       "\n",
       "      danceability  energy  key  loudness  mode  speechiness  ...  \\\n",
       "4072         0.651   0.550    7    -8.215     1       0.0496  ...   \n",
       "4073         0.545   0.476    7    -7.444     0       0.2840  ...   \n",
       "4074         0.697   0.235    7    -8.651     1       0.0534  ...   \n",
       "4075         0.554   0.850    5    -4.155     1       0.2510  ...   \n",
       "4076         0.728   0.620    2    -7.533     1       0.0434  ...   \n",
       "\n",
       "      instrumentalness  liveness  valence    tempo  index_col  \\\n",
       "4072          0.000000     0.165    0.119  107.567       4072   \n",
       "4073          0.000000     0.130    0.223  154.362       4073   \n",
       "4074          0.000144     0.107    0.378   99.947       4074   \n",
       "4075          0.000000     0.155    0.383  128.429       4075   \n",
       "4076          0.000000     0.342    0.885   81.998       4076   \n",
       "\n",
       "                    name_y                                 album  \\\n",
       "4072               Company  If You're Reading This It's Too Late   \n",
       "4073           You & The 6  If You're Reading This It's Too Late   \n",
       "4074                Jungle  If You're Reading This It's Too Late   \n",
       "4075       6PM In New York  If You're Reading This It's Too Late   \n",
       "4076  Flex (Ooh, Ooh, Ooh)                        Summer Sampler   \n",
       "\n",
       "               artist release_date tmp  \n",
       "4072            Drake   2015-02-12   1  \n",
       "4073            Drake   2015-02-12   1  \n",
       "4074            Drake   2015-02-12   1  \n",
       "4075            Drake   2015-02-12   1  \n",
       "4076  Rich Homie Quan   2015-06-02   1  \n",
       "\n",
       "[5 rows x 21 columns]"
      ]
     },
     "execution_count": 74,
     "metadata": {},
     "output_type": "execute_result"
    }
   ],
   "source": [
    "saved_tracks_df.tail()"
   ]
  },
  {
   "cell_type": "code",
   "execution_count": 75,
   "metadata": {},
   "outputs": [
    {
     "data": {
      "text/plain": [
       "Index(['name_x', 'id', 'popularity', 'duration', 'danceability', 'energy',\n",
       "       'key', 'loudness', 'mode', 'speechiness', 'acousticness',\n",
       "       'instrumentalness', 'liveness', 'valence', 'tempo', 'index_col',\n",
       "       'album', 'artist', 'release_date'],\n",
       "      dtype='object')"
      ]
     },
     "execution_count": 75,
     "metadata": {},
     "output_type": "execute_result"
    }
   ],
   "source": [
    "saved_tracks_df = saved_tracks_df.drop(columns=['tmp', 'name_y'])\n",
    "saved_tracks_df.columns"
   ]
  },
  {
   "cell_type": "code",
   "execution_count": 76,
   "metadata": {},
   "outputs": [],
   "source": [
    "saved_tracks_df.rename(columns= {\"name_x\" : \"title\"}, inplace= True)"
   ]
  },
  {
   "cell_type": "code",
   "execution_count": 77,
   "metadata": {},
   "outputs": [
    {
     "data": {
      "text/plain": [
       "Index(['title', 'id', 'popularity', 'duration', 'danceability', 'energy',\n",
       "       'key', 'loudness', 'mode', 'speechiness', 'acousticness',\n",
       "       'instrumentalness', 'liveness', 'valence', 'tempo', 'index_col',\n",
       "       'album', 'artist', 'release_date'],\n",
       "      dtype='object')"
      ]
     },
     "execution_count": 77,
     "metadata": {},
     "output_type": "execute_result"
    }
   ],
   "source": [
    "saved_tracks_df.columns"
   ]
  },
  {
   "cell_type": "code",
   "execution_count": 78,
   "metadata": {},
   "outputs": [
    {
     "data": {
      "text/plain": [
       "<bound method NDFrame.describe of 0       2021\n",
       "1       2021\n",
       "2       2021\n",
       "3       2022\n",
       "4       2016\n",
       "        ... \n",
       "4072    2015\n",
       "4073    2015\n",
       "4074    2015\n",
       "4075    2015\n",
       "4076    2015\n",
       "Name: release_year, Length: 4077, dtype: int64>"
      ]
     },
     "execution_count": 78,
     "metadata": {},
     "output_type": "execute_result"
    }
   ],
   "source": [
    "# Create a \"release year\" column based on release date\n",
    "saved_tracks_df['release_year'] = saved_tracks_df['release_date'].str[0:4]\n",
    "saved_tracks_df['release_year'] = pd.to_numeric(saved_tracks_df['release_year'])\n",
    "saved_tracks_df['release_year'].describe\n",
    "# print(saved_tracks_df)"
   ]
  },
  {
   "cell_type": "code",
   "execution_count": 80,
   "metadata": {},
   "outputs": [],
   "source": [
    "saved_tracks_df = saved_tracks_df.drop(columns=['release_date'])"
   ]
  },
  {
   "cell_type": "code",
   "execution_count": 83,
   "metadata": {},
   "outputs": [],
   "source": [
    "# Save as csv, will use this file for EDA and cluster analysis\n",
    "saved_tracks_df.to_csv(\"saved_tracks_final.csv\", sep = ',', index= False)"
   ]
  }
 ],
 "metadata": {
  "kernelspec": {
   "display_name": "Python 3",
   "language": "python",
   "name": "python3"
  },
  "language_info": {
   "codemirror_mode": {
    "name": "ipython",
    "version": 3
   },
   "file_extension": ".py",
   "mimetype": "text/x-python",
   "name": "python",
   "nbconvert_exporter": "python",
   "pygments_lexer": "ipython3",
   "version": "3.8.5"
  }
 },
 "nbformat": 4,
 "nbformat_minor": 4
}
